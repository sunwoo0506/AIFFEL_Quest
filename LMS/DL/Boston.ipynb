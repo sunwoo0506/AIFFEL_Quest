{
 "cells": [
  {
   "cell_type": "code",
   "execution_count": 37,
   "id": "07ebd629",
   "metadata": {},
   "outputs": [],
   "source": [
    "from tensorflow.keras import models, layers, utils\n",
    "import matplotlib.pyplot as plt\n"
   ]
  },
  {
   "cell_type": "code",
   "execution_count": 38,
   "id": "e74de407",
   "metadata": {},
   "outputs": [
    {
     "name": "stdout",
     "output_type": "stream",
     "text": [
      "404\n",
      "102\n"
     ]
    }
   ],
   "source": [
    "# keras.datasets 안에 boston_housing 데이터셋을 로드합니다.\n",
    "from keras.datasets import boston_housing\n",
    "from sklearn.model_selection import train_test_split\n",
    "\n",
    "(train_data, train_labels), (test_data, test_labels) = boston_housing.load_data()\n",
    "\n",
    "x_train, x_val, y_train, y_val = train_test_split(train_data, train_labels, test_size=0.3, random_state=2023)\n",
    "\n",
    "# 데이터셋의 크기를 확인합니다.\n",
    "print(len(train_data))\n",
    "print(len(test_data))"
   ]
  },
  {
   "cell_type": "code",
   "execution_count": 39,
   "id": "820581c8",
   "metadata": {},
   "outputs": [],
   "source": [
    "# 문제 1-1: 데이터셋의 전처리를 위해 표준화 작업을 수행합니다.\n",
    "# 먼저 입력 데이터의 각 특성의 평균을 뺍니다.\n",
    "\n",
    "mean = train_data.mean(axis=0)\n",
    "train_data = train_data - mean\n",
    "\n",
    "# 평균을 뺀 입력 데이터에서 표준편차를 나눕니다.\n",
    "# 데이터 특성의 중앙이 0에 가깝게 만들고, 표준편차가 1이 되게 만듭니다.\n",
    "\n",
    "std = train_data.std(axis=0)\n",
    "train_data = train_data/std\n",
    "\n",
    "# 테스트 데이터셋도 마찬가지로 평균을 빼고, 표준편차로 나눕니다.\n",
    "\n",
    "test_data = test_data - mean\n",
    "test_data = test_data/std\n"
   ]
  },
  {
   "cell_type": "code",
   "execution_count": 98,
   "id": "002409bf",
   "metadata": {},
   "outputs": [],
   "source": [
    "# 문제 1-2: 주택 가격 예측을 위한 딥러닝 모델 구성 및 컴파일합니다.\n",
    "# input_shape은 (train_data.shape[1], )으로 구성합니다.\n",
    "# 회귀(예측)을 위한 모델이므로 loss를 mse, metrics를 mae로 사용합니다.\n",
    "model = models.Sequential()\n",
    "model.add(layers.Input(shape=(train_data.shape[1],)))\n",
    "model.add(layers.Dense(16, activation='relu'))\n",
    "model.add(layers.Dense(64, activation='relu'))\n",
    "model.add(layers.Dense(1, activation='linear'))\n",
    "\n",
    "model.compile(loss='mse', optimizer='adam', metrics='mae')"
   ]
  },
  {
   "cell_type": "code",
   "execution_count": 99,
   "id": "a05c47b4",
   "metadata": {},
   "outputs": [
    {
     "name": "stdout",
     "output_type": "stream",
     "text": [
      "Epoch 1/100\n",
      "6/6 [==============================] - 0s 26ms/step - loss: 401.7823 - mae: 16.3621 - val_loss: 130.8108 - val_mae: 9.1403\n",
      "Epoch 2/100\n",
      "6/6 [==============================] - 0s 7ms/step - loss: 182.4765 - mae: 10.4996 - val_loss: 116.5381 - val_mae: 9.2072\n",
      "Epoch 3/100\n",
      "6/6 [==============================] - 0s 9ms/step - loss: 91.0770 - mae: 7.6417 - val_loss: 99.5382 - val_mae: 7.9239\n",
      "Epoch 4/100\n",
      "6/6 [==============================] - 0s 9ms/step - loss: 101.6404 - mae: 7.8694 - val_loss: 85.8977 - val_mae: 7.3814\n",
      "Epoch 5/100\n",
      "1/6 [====>.........................] - ETA: 0s - loss: 80.5207 - mae: 7.1679"
     ]
    },
    {
     "name": "stderr",
     "output_type": "stream",
     "text": [
      "C:\\Users\\sunw0506\\anaconda3\\Lib\\site-packages\\keras\\src\\engine\\training.py:3079: UserWarning: You are saving your model as an HDF5 file via `model.save()`. This file format is considered legacy. We recommend using instead the native Keras format, e.g. `model.save('my_model.keras')`.\n",
      "  saving_api.save_model(\n"
     ]
    },
    {
     "name": "stdout",
     "output_type": "stream",
     "text": [
      "6/6 [==============================] - 0s 9ms/step - loss: 74.1864 - mae: 6.7250 - val_loss: 81.2995 - val_mae: 7.5711\n",
      "Epoch 6/100\n",
      "6/6 [==============================] - 0s 11ms/step - loss: 64.4323 - mae: 6.3195 - val_loss: 71.0622 - val_mae: 6.5280\n",
      "Epoch 7/100\n",
      "6/6 [==============================] - 0s 6ms/step - loss: 58.9228 - mae: 5.4296 - val_loss: 76.9230 - val_mae: 6.0862\n",
      "Epoch 8/100\n",
      "6/6 [==============================] - 0s 6ms/step - loss: 60.0151 - mae: 5.3258 - val_loss: 73.4476 - val_mae: 6.3810\n",
      "Epoch 9/100\n",
      "6/6 [==============================] - 0s 6ms/step - loss: 57.5892 - mae: 5.5630 - val_loss: 72.7326 - val_mae: 6.6347\n",
      "Epoch 10/100\n",
      "6/6 [==============================] - 0s 9ms/step - loss: 56.7214 - mae: 5.5146 - val_loss: 70.0734 - val_mae: 6.2404\n",
      "Epoch 11/100\n",
      "6/6 [==============================] - 0s 9ms/step - loss: 56.0919 - mae: 5.3178 - val_loss: 68.8218 - val_mae: 6.2602\n",
      "Epoch 12/100\n",
      "6/6 [==============================] - 0s 6ms/step - loss: 55.1907 - mae: 5.3956 - val_loss: 68.8840 - val_mae: 6.3652\n",
      "Epoch 13/100\n",
      "6/6 [==============================] - 0s 9ms/step - loss: 54.4636 - mae: 5.3782 - val_loss: 68.4173 - val_mae: 6.0233\n",
      "Epoch 14/100\n",
      "6/6 [==============================] - 0s 9ms/step - loss: 53.8848 - mae: 5.0596 - val_loss: 67.6153 - val_mae: 6.0139\n",
      "Epoch 15/100\n",
      "6/6 [==============================] - 0s 10ms/step - loss: 53.8793 - mae: 5.3122 - val_loss: 66.6765 - val_mae: 6.1169\n",
      "Epoch 16/100\n",
      "6/6 [==============================] - 0s 10ms/step - loss: 51.9674 - mae: 5.0768 - val_loss: 66.4415 - val_mae: 5.8351\n",
      "Epoch 17/100\n",
      "6/6 [==============================] - 0s 10ms/step - loss: 51.3880 - mae: 5.0243 - val_loss: 64.9117 - val_mae: 5.9501\n",
      "Epoch 18/100\n",
      "6/6 [==============================] - 0s 9ms/step - loss: 50.3968 - mae: 5.0167 - val_loss: 64.3569 - val_mae: 5.8265\n",
      "Epoch 19/100\n",
      "6/6 [==============================] - 0s 9ms/step - loss: 49.6408 - mae: 4.9649 - val_loss: 64.2510 - val_mae: 5.8414\n",
      "Epoch 20/100\n",
      "6/6 [==============================] - 0s 9ms/step - loss: 49.3055 - mae: 4.9571 - val_loss: 63.7493 - val_mae: 5.7242\n",
      "Epoch 21/100\n",
      "6/6 [==============================] - 0s 6ms/step - loss: 49.2751 - mae: 4.7961 - val_loss: 64.2691 - val_mae: 5.6380\n",
      "Epoch 22/100\n",
      "6/6 [==============================] - 0s 6ms/step - loss: 48.5808 - mae: 4.9107 - val_loss: 63.7912 - val_mae: 5.8455\n",
      "Epoch 23/100\n",
      "6/6 [==============================] - 0s 10ms/step - loss: 48.0517 - mae: 4.7845 - val_loss: 63.4611 - val_mae: 5.5632\n",
      "Epoch 24/100\n",
      "6/6 [==============================] - 0s 10ms/step - loss: 47.5258 - mae: 4.8405 - val_loss: 63.2606 - val_mae: 5.9261\n",
      "Epoch 25/100\n",
      "6/6 [==============================] - 0s 6ms/step - loss: 48.1259 - mae: 4.7492 - val_loss: 63.8901 - val_mae: 5.4005\n",
      "Epoch 26/100\n",
      "6/6 [==============================] - 0s 6ms/step - loss: 46.2568 - mae: 4.7934 - val_loss: 63.6917 - val_mae: 6.0440\n",
      "Epoch 27/100\n",
      "6/6 [==============================] - 0s 10ms/step - loss: 45.5528 - mae: 4.7821 - val_loss: 63.1554 - val_mae: 5.3520\n",
      "Epoch 28/100\n",
      "6/6 [==============================] - 0s 9ms/step - loss: 46.0314 - mae: 4.5205 - val_loss: 61.0346 - val_mae: 5.6865\n",
      "Epoch 29/100\n",
      "6/6 [==============================] - 0s 10ms/step - loss: 44.7371 - mae: 4.7540 - val_loss: 59.9544 - val_mae: 5.5541\n",
      "Epoch 30/100\n",
      "6/6 [==============================] - 0s 10ms/step - loss: 44.3677 - mae: 4.5556 - val_loss: 59.5501 - val_mae: 5.4487\n",
      "Epoch 31/100\n",
      "6/6 [==============================] - 0s 9ms/step - loss: 43.6355 - mae: 4.7205 - val_loss: 59.5448 - val_mae: 5.4934\n",
      "Epoch 32/100\n",
      "6/6 [==============================] - 0s 6ms/step - loss: 42.9733 - mae: 4.5437 - val_loss: 61.5389 - val_mae: 5.2498\n",
      "Epoch 33/100\n",
      "6/6 [==============================] - 0s 10ms/step - loss: 43.0114 - mae: 4.3982 - val_loss: 58.4600 - val_mae: 5.6019\n",
      "Epoch 34/100\n",
      "6/6 [==============================] - 0s 6ms/step - loss: 43.8478 - mae: 4.8747 - val_loss: 58.8773 - val_mae: 5.3146\n",
      "Epoch 35/100\n",
      "6/6 [==============================] - 0s 10ms/step - loss: 42.5756 - mae: 4.4073 - val_loss: 57.3097 - val_mae: 5.4213\n",
      "Epoch 36/100\n",
      "6/6 [==============================] - 0s 10ms/step - loss: 41.2494 - mae: 4.5098 - val_loss: 57.2133 - val_mae: 5.3769\n",
      "Epoch 37/100\n",
      "6/6 [==============================] - 0s 9ms/step - loss: 40.9688 - mae: 4.3614 - val_loss: 56.5893 - val_mae: 5.2765\n",
      "Epoch 38/100\n",
      "6/6 [==============================] - 0s 9ms/step - loss: 40.0165 - mae: 4.3711 - val_loss: 56.1624 - val_mae: 5.3009\n",
      "Epoch 39/100\n",
      "6/6 [==============================] - 0s 10ms/step - loss: 40.1228 - mae: 4.3274 - val_loss: 55.7163 - val_mae: 5.2406\n",
      "Epoch 40/100\n",
      "6/6 [==============================] - 0s 9ms/step - loss: 39.4157 - mae: 4.3816 - val_loss: 54.8242 - val_mae: 5.3418\n",
      "Epoch 41/100\n",
      "6/6 [==============================] - 0s 5ms/step - loss: 39.0950 - mae: 4.3414 - val_loss: 55.1173 - val_mae: 5.2371\n",
      "Epoch 42/100\n",
      "6/6 [==============================] - 0s 10ms/step - loss: 38.9252 - mae: 4.2506 - val_loss: 54.7105 - val_mae: 5.2476\n",
      "Epoch 43/100\n",
      "6/6 [==============================] - 0s 10ms/step - loss: 39.0207 - mae: 4.4080 - val_loss: 54.0347 - val_mae: 5.1300\n",
      "Epoch 44/100\n",
      "6/6 [==============================] - 0s 9ms/step - loss: 38.8324 - mae: 4.1834 - val_loss: 53.0508 - val_mae: 5.3510\n",
      "Epoch 45/100\n",
      "6/6 [==============================] - 0s 6ms/step - loss: 38.7446 - mae: 4.4740 - val_loss: 53.9611 - val_mae: 5.0193\n",
      "Epoch 46/100\n",
      "6/6 [==============================] - 0s 9ms/step - loss: 38.1913 - mae: 4.2154 - val_loss: 52.5595 - val_mae: 5.1547\n",
      "Epoch 47/100\n",
      "6/6 [==============================] - 0s 9ms/step - loss: 37.2951 - mae: 4.1836 - val_loss: 52.1965 - val_mae: 5.0873\n",
      "Epoch 48/100\n",
      "6/6 [==============================] - 0s 9ms/step - loss: 36.9521 - mae: 4.1457 - val_loss: 51.0746 - val_mae: 5.1162\n",
      "Epoch 49/100\n",
      "6/6 [==============================] - 0s 10ms/step - loss: 36.8852 - mae: 4.2206 - val_loss: 50.8207 - val_mae: 5.0567\n",
      "Epoch 50/100\n",
      "6/6 [==============================] - 0s 6ms/step - loss: 36.7930 - mae: 4.1753 - val_loss: 50.9412 - val_mae: 5.0437\n",
      "Epoch 51/100\n",
      "6/6 [==============================] - 0s 10ms/step - loss: 36.7412 - mae: 4.1753 - val_loss: 49.3616 - val_mae: 5.0776\n",
      "Epoch 52/100\n",
      "6/6 [==============================] - 0s 6ms/step - loss: 36.0421 - mae: 4.1209 - val_loss: 50.1372 - val_mae: 4.9119\n",
      "Epoch 53/100\n",
      "6/6 [==============================] - 0s 10ms/step - loss: 35.6522 - mae: 4.1059 - val_loss: 48.9698 - val_mae: 5.1757\n",
      "Epoch 54/100\n",
      "6/6 [==============================] - 0s 6ms/step - loss: 36.7733 - mae: 4.1939 - val_loss: 49.7467 - val_mae: 4.9375\n",
      "Epoch 55/100\n",
      "6/6 [==============================] - 0s 9ms/step - loss: 36.5210 - mae: 4.3907 - val_loss: 48.5408 - val_mae: 4.9249\n",
      "Epoch 56/100\n",
      "6/6 [==============================] - 0s 9ms/step - loss: 38.1165 - mae: 4.1215 - val_loss: 47.3373 - val_mae: 5.0829\n",
      "Epoch 57/100\n",
      "6/6 [==============================] - 0s 6ms/step - loss: 38.5929 - mae: 4.6423 - val_loss: 50.1360 - val_mae: 4.7780\n",
      "Epoch 58/100\n",
      "6/6 [==============================] - 0s 9ms/step - loss: 36.1595 - mae: 4.0156 - val_loss: 47.1766 - val_mae: 5.0861\n",
      "Epoch 59/100\n",
      "6/6 [==============================] - 0s 6ms/step - loss: 36.1796 - mae: 4.4534 - val_loss: 50.1398 - val_mae: 4.7647\n",
      "Epoch 60/100\n",
      "6/6 [==============================] - 0s 10ms/step - loss: 36.7706 - mae: 4.1366 - val_loss: 47.0186 - val_mae: 5.2412\n",
      "Epoch 61/100\n",
      "6/6 [==============================] - 0s 6ms/step - loss: 35.5985 - mae: 4.3764 - val_loss: 49.6177 - val_mae: 4.6977\n",
      "Epoch 62/100\n",
      "6/6 [==============================] - 0s 10ms/step - loss: 35.0129 - mae: 3.9847 - val_loss: 45.2748 - val_mae: 5.0133\n",
      "Epoch 63/100\n",
      "6/6 [==============================] - 0s 6ms/step - loss: 34.5881 - mae: 4.0789 - val_loss: 45.9038 - val_mae: 4.8201\n",
      "Epoch 64/100\n",
      "6/6 [==============================] - 0s 10ms/step - loss: 33.6026 - mae: 4.0938 - val_loss: 45.0422 - val_mae: 4.7730\n",
      "Epoch 65/100\n",
      "6/6 [==============================] - 0s 10ms/step - loss: 35.7087 - mae: 4.0107 - val_loss: 44.5215 - val_mae: 5.0752\n",
      "Epoch 66/100\n",
      "6/6 [==============================] - 0s 6ms/step - loss: 33.9381 - mae: 4.2421 - val_loss: 47.0633 - val_mae: 4.6394\n",
      "Epoch 67/100\n"
     ]
    },
    {
     "name": "stdout",
     "output_type": "stream",
     "text": [
      "6/6 [==============================] - 0s 10ms/step - loss: 36.7334 - mae: 4.1684 - val_loss: 43.9422 - val_mae: 5.0079\n",
      "Epoch 68/100\n",
      "6/6 [==============================] - 0s 9ms/step - loss: 34.1774 - mae: 4.0323 - val_loss: 43.5827 - val_mae: 4.6904\n",
      "Epoch 69/100\n",
      "6/6 [==============================] - 0s 6ms/step - loss: 33.3422 - mae: 4.1099 - val_loss: 44.3050 - val_mae: 4.6266\n",
      "Epoch 70/100\n",
      "6/6 [==============================] - 0s 10ms/step - loss: 32.8249 - mae: 3.8727 - val_loss: 42.4420 - val_mae: 4.7777\n",
      "Epoch 71/100\n",
      "6/6 [==============================] - 0s 6ms/step - loss: 32.5955 - mae: 4.0193 - val_loss: 42.5907 - val_mae: 4.6478\n",
      "Epoch 72/100\n",
      "6/6 [==============================] - 0s 9ms/step - loss: 32.3197 - mae: 3.8814 - val_loss: 42.2854 - val_mae: 4.8145\n",
      "Epoch 73/100\n",
      "6/6 [==============================] - 0s 6ms/step - loss: 32.7589 - mae: 4.0139 - val_loss: 42.6468 - val_mae: 4.6379\n",
      "Epoch 74/100\n",
      "6/6 [==============================] - 0s 6ms/step - loss: 32.1888 - mae: 4.0044 - val_loss: 42.6702 - val_mae: 4.5558\n",
      "Epoch 75/100\n",
      "6/6 [==============================] - 0s 4ms/step - loss: 33.4856 - mae: 3.9168 - val_loss: 42.9037 - val_mae: 5.1654\n",
      "Epoch 76/100\n",
      "6/6 [==============================] - 0s 5ms/step - loss: 32.7257 - mae: 4.1944 - val_loss: 46.5076 - val_mae: 4.5414\n",
      "Epoch 77/100\n",
      "6/6 [==============================] - 0s 6ms/step - loss: 34.2384 - mae: 3.9853 - val_loss: 42.7951 - val_mae: 5.1913\n",
      "Epoch 78/100\n",
      "6/6 [==============================] - 0s 5ms/step - loss: 34.8389 - mae: 4.1788 - val_loss: 42.8429 - val_mae: 4.4690\n",
      "Epoch 79/100\n",
      "6/6 [==============================] - 0s 10ms/step - loss: 33.5020 - mae: 4.2073 - val_loss: 40.8864 - val_mae: 4.6149\n",
      "Epoch 80/100\n",
      "6/6 [==============================] - 0s 9ms/step - loss: 32.9476 - mae: 3.9248 - val_loss: 39.8724 - val_mae: 4.7490\n",
      "Epoch 81/100\n",
      "6/6 [==============================] - 0s 6ms/step - loss: 31.7328 - mae: 4.0099 - val_loss: 42.1853 - val_mae: 4.4458\n",
      "Epoch 82/100\n",
      "6/6 [==============================] - 0s 9ms/step - loss: 31.3302 - mae: 3.8753 - val_loss: 39.8430 - val_mae: 4.7059\n",
      "Epoch 83/100\n",
      "6/6 [==============================] - 0s 9ms/step - loss: 31.5597 - mae: 3.9014 - val_loss: 39.1334 - val_mae: 4.5743\n",
      "Epoch 84/100\n",
      "6/6 [==============================] - 0s 6ms/step - loss: 31.5812 - mae: 4.0976 - val_loss: 41.0972 - val_mae: 4.4311\n",
      "Epoch 85/100\n",
      "6/6 [==============================] - 0s 3ms/step - loss: 31.6978 - mae: 3.8392 - val_loss: 39.6224 - val_mae: 4.8704\n",
      "Epoch 86/100\n",
      "6/6 [==============================] - 0s 5ms/step - loss: 32.2598 - mae: 4.2621 - val_loss: 43.9383 - val_mae: 4.4819\n",
      "Epoch 87/100\n",
      "6/6 [==============================] - 0s 6ms/step - loss: 31.7479 - mae: 3.8958 - val_loss: 39.5562 - val_mae: 4.9291\n",
      "Epoch 88/100\n",
      "6/6 [==============================] - 0s 6ms/step - loss: 31.3228 - mae: 4.0005 - val_loss: 39.5622 - val_mae: 4.3840\n",
      "Epoch 89/100\n",
      "6/6 [==============================] - 0s 5ms/step - loss: 33.2525 - mae: 4.1444 - val_loss: 43.1488 - val_mae: 4.4726\n",
      "Epoch 90/100\n",
      "6/6 [==============================] - 0s 6ms/step - loss: 33.3385 - mae: 3.9725 - val_loss: 45.4333 - val_mae: 5.6190\n",
      "Epoch 91/100\n",
      "6/6 [==============================] - 0s 3ms/step - loss: 37.0031 - mae: 4.5663 - val_loss: 45.2285 - val_mae: 4.5147\n",
      "Epoch 92/100\n",
      "6/6 [==============================] - 0s 10ms/step - loss: 32.9230 - mae: 4.1419 - val_loss: 38.4421 - val_mae: 4.6007\n",
      "Epoch 93/100\n",
      "6/6 [==============================] - 0s 10ms/step - loss: 32.0247 - mae: 4.0055 - val_loss: 37.1844 - val_mae: 4.5772\n",
      "Epoch 94/100\n",
      "6/6 [==============================] - 0s 6ms/step - loss: 29.9495 - mae: 3.7922 - val_loss: 37.4268 - val_mae: 4.4929\n",
      "Epoch 95/100\n",
      "6/6 [==============================] - 0s 5ms/step - loss: 29.6526 - mae: 3.9089 - val_loss: 37.8753 - val_mae: 4.3783\n",
      "Epoch 96/100\n",
      "6/6 [==============================] - 0s 10ms/step - loss: 29.2139 - mae: 3.7665 - val_loss: 37.1464 - val_mae: 4.4265\n",
      "Epoch 97/100\n",
      "6/6 [==============================] - 0s 6ms/step - loss: 29.0406 - mae: 3.7690 - val_loss: 37.5582 - val_mae: 4.3714\n",
      "Epoch 98/100\n",
      "6/6 [==============================] - 0s 9ms/step - loss: 29.0712 - mae: 3.7677 - val_loss: 36.9703 - val_mae: 4.4271\n",
      "Epoch 99/100\n",
      "6/6 [==============================] - 0s 6ms/step - loss: 28.8954 - mae: 3.7766 - val_loss: 37.3748 - val_mae: 4.3291\n",
      "Epoch 100/100\n",
      "6/6 [==============================] - 0s 9ms/step - loss: 29.0363 - mae: 3.7578 - val_loss: 36.1897 - val_mae: 4.5257\n"
     ]
    }
   ],
   "source": [
    "# 문제 1-3: 예측을 위한 딥러닝 모델을 학습합니다.\n",
    "from tensorflow.keras import callbacks\n",
    "\n",
    "check_point_cb = callbacks.ModelCheckpoint('Boston_model.h5', \n",
    "                                           save_best_only=True)\n",
    "early_stopping_cb = callbacks.EarlyStopping(patience=15, \n",
    "                                            monitor='val_loss',\n",
    "                                            restore_best_weights=True)\n",
    "\n",
    "history = model.fit(x_train, y_train, \n",
    "                    epochs=100, \n",
    "                    batch_size=50, \n",
    "                    validation_data=(x_val, y_val),\n",
    "                   callbacks=[check_point_cb,early_stopping_cb])\n"
   ]
  },
  {
   "cell_type": "code",
   "execution_count": 100,
   "id": "161191bf",
   "metadata": {},
   "outputs": [
    {
     "name": "stderr",
     "output_type": "stream",
     "text": [
      "C:\\Users\\sunw0506\\AppData\\Local\\Temp\\ipykernel_14052\\2300888499.py:2: MatplotlibDeprecationWarning: The seaborn styles shipped by Matplotlib are deprecated since 3.6, as they no longer correspond to the styles shipped by seaborn. However, they will remain available as 'seaborn-v0_8-<style>'. Alternatively, directly use the seaborn API instead.\n",
      "  plt.style.use('seaborn-white')\n"
     ]
    },
    {
     "data": {
      "image/png": "[encoded data removed]",
      "text/plain": [
       "<Figure size 1200x500 with 2 Axes>"
      ]
     },
     "metadata": {},
     "output_type": "display_data"
    }
   ],
   "source": [
    "# 모델 학습 히스토리에서 loss, val_loss, mae, val_mae를 차트로 보여줍니다.\n",
    "plt.style.use('seaborn-white')\n",
    "\n",
    "history_dict = history.history\n",
    "\n",
    "loss = history_dict['loss']\n",
    "val_loss = history_dict['val_loss']\n",
    "\n",
    "epochs = range(1, len(loss) + 1)\n",
    "fig = plt.figure(figsize=(12, 5))\n",
    "\n",
    "ax1 = fig.add_subplot(1, 2, 1)\n",
    "ax1.plot(epochs, loss, 'b-', label='train_loss')\n",
    "ax1.plot(epochs, val_loss, 'r-', label='val_loss')\n",
    "ax1.set_title('Train and Validation Loss')\n",
    "ax1.set_xlabel('Epochs')\n",
    "ax1.set_ylabel('Loss')\n",
    "ax1.grid()\n",
    "ax1.legend()\n",
    "\n",
    "mae = history_dict['mae']\n",
    "val_mae = history_dict['val_mae']\n",
    "\n",
    "ax2 = fig.add_subplot(1, 2, 2)\n",
    "ax2.plot(epochs, mae, 'b-', label='train_mae')\n",
    "ax2.plot(epochs, val_mae, 'r-', label='val_mae')\n",
    "ax2.set_title('Train and Validation MAE')\n",
    "ax2.set_xlabel('Epochs')\n",
    "ax2.set_ylabel('mae')\n",
    "ax2.grid()\n",
    "ax2.legend()\n",
    "\n",
    "plt.show()"
   ]
  },
  {
   "cell_type": "code",
   "execution_count": 101,
   "id": "accb45d8",
   "metadata": {},
   "outputs": [
    {
     "name": "stdout",
     "output_type": "stream",
     "text": [
      "4/4 [==============================] - 0s 2ms/step - loss: 589.2034 - mae: 22.5982\n"
     ]
    },
    {
     "data": {
      "text/plain": [
       "[589.203369140625, 22.598188400268555]"
      ]
     },
     "execution_count": 101,
     "metadata": {},
     "output_type": "execute_result"
    }
   ],
   "source": [
    "# 문제 1-4: 테스트 데이터셋을 이용해 모델을 평가합니다.\n",
    "model.evaluate(test_data, test_labels)"
   ]
  },
  {
   "cell_type": "code",
   "execution_count": null,
   "id": "07ff4ca3",
   "metadata": {},
   "outputs": [],
   "source": []
  }
 ],
 "metadata": {
  "kernelspec": {
   "display_name": "Python 3 (ipykernel)",
   "language": "python",
   "name": "python3"
  },
  "language_info": {
   "codemirror_mode": {
    "name": "ipython",
    "version": 3
   },
   "file_extension": ".py",
   "mimetype": "text/x-python",
   "name": "python",
   "nbconvert_exporter": "python",
   "pygments_lexer": "ipython3",
   "version": "3.11.5"
  }
 },
 "nbformat": 4,
 "nbformat_minor": 5
}
