{
  "nbformat": 4,
  "nbformat_minor": 0,
  "metadata": {
    "colab": {
      "provenance": [],
      "include_colab_link": true
    },
    "kernelspec": {
      "name": "python3",
      "display_name": "Python 3"
    },
    "language_info": {
      "name": "python"
    }
  },
  "cells": [
    {
      "cell_type": "markdown",
      "metadata": {
        "id": "view-in-github",
        "colab_type": "text"
      },
      "source": [
        "<a href=\"https://colab.research.google.com/github/sunwoo0506/AIFFEL_Quest/blob/main/MainQuest02(Answer).ipynb\" target=\"_parent\"><img src=\"https://colab.research.google.com/assets/colab-badge.svg\" alt=\"Open In Colab\"/></a>"
      ]
    },
    {
      "cell_type": "code",
      "source": [
        "import csv\n",
        "\n",
        "class Aiffel:\n",
        "  # 이름: [학번, 개인점수, 그룹, 길드, 길드점수]\n",
        "  li = {\"김건\": ['학번', 0, '그룹', '길드', 0], \"김경민\": ['학번', 0, '그룹', '길드', 0], \"김소연\": ['학번', 0, '그룹', '길드', 0], \"김영신\": ['학번', 0, '그룹', '길드', 0], \\\n",
        "              \"박근수\": ['학번', 0, '그룹', '길드', 0], \"박영수\": ['학번', 0, '그룹', '길드', 0], \"박영준\": ['학번', 0, '그룹', '길드', 0], \"서원영\": ['학번', 0, '그룹', '길드', 0],\\\n",
        "              \"신지만\": ['학번', 0, '그룹', '길드', 0], \"심지안\": ['학번', 0, '그룹', '길드', 0], \"이규상\": ['학번', 0, '그룹', '길드', 0], \"이윤상\": ['학번', 0, '그룹', '길드', 0],\\\n",
        "              \"이진영\": ['학번', 0, '그룹', '길드', 0], \"임현석\": ['학번', 0, '그룹', '길드', 0], \"전요한\": ['학번', 0, '그룹', '길드', 0], \"전재영\": ['학번', 0, '그룹', '길드', 0],\\\n",
        "              \"조대희\":['학번', 0, '그룹', '길드', 0]}\n",
        "  write = []\n",
        "  def __init__(self, name, year, NN, C):\n",
        "    self.name = name\n",
        "    self.year = year\n",
        "    self.NN = NN\n",
        "    self.C = C\n",
        "    self.p_plus = 0\n",
        "    self.p_minus = 0\n",
        "\n",
        "  # 2-1\n",
        "  def make_id(self):\n",
        "    XX = sorted(Aiffel.li.keys())\n",
        "\n",
        "    # 개별 그루 정보 생성할 때\n",
        "    # if Aiffel.id_cnt < 10:\n",
        "    #   Aiffel.li[self.name][0] = str(self.year)+str(self.NN)+str(self.C)+str(0)+str(Aiffel.id_cnt)\n",
        "    # else:\n",
        "    #   Aiffel.li[self.name][0] = str(self.year)+str(self.NN)+str(self.C)+str(Aiffel.id_cnt)\n",
        "    # Aiffel.id_cnt += 1\n",
        "\n",
        "    # 한번에 그루 정보 전부 생성할 때\n",
        "    for idx in range(len(XX)):\n",
        "      if idx < 9:\n",
        "        Aiffel.li[XX[idx]][0] = str(self.year)+str(self.NN)+str(self.C)+str(0)+str(idx+1)\n",
        "      else:\n",
        "        Aiffel.li[XX[idx]][0] = str(self.year)+str(self.NN)+str(self.C)+str(idx+1)\n",
        "\n",
        "  # 2-2\n",
        "  def get_id_num(self):\n",
        "    print(len(Aiffel.li))\n",
        "\n",
        "  # 2-3\n",
        "  def score(self, plus):\n",
        "    if 1<= plus <=3:\n",
        "      Aiffel.li[self.name][1] += plus\n",
        "      self.p_plus += plus\n",
        "    else:\n",
        "      print(\"추가점수는 1~3점만 가능합니다. 점수를 확인해주세요\")\n",
        "\n",
        "  # 2-4\n",
        "  def penalty(self, minus):\n",
        "    # 딕셔너리일 때\n",
        "    # self.li[self.name] -= minus\n",
        "    if minus < 0:\n",
        "      Aiffel.li[self.name][1] += minus\n",
        "      self.p_minus += minus\n",
        "    else:\n",
        "      print(\"패널티는 음수만 가능합니다. 점수를 확인해주세요\")\n",
        "\n",
        "  # 2-5\n",
        "  def display_info(self):\n",
        "    for name in Aiffel.li.keys():\n",
        "      if Aiffel.li[name][0][4] == '1':\n",
        "        self.course = 'research'\n",
        "      elif Aiffel.li[name][0][4] == '2':\n",
        "        self.course = 'core'\n",
        "      else:\n",
        "        print(\"과정은 1, 2만 선택 가능합니다.\")\n",
        "      # 이름, 학번, 과정종류, 퀘스트 점수 총점, plus, penalty\n",
        "      header = [\"이름\", \"학번\", \"과정종류\", \"퀘스트 점수 총점\", \"추가점수\", \"패널티\"]\n",
        "\n",
        "      item = [name, Aiffel.li[name][0], self.course, Aiffel.li[name][1], 0, 0]\n",
        "      Aiffel.write.append(item)\n",
        "    for i in range(len(Aiffel.write)):\n",
        "      if self.name == Aiffel.write[i][0]:\n",
        "        Aiffel.write[i] = [self.name, Aiffel.li[name][0], self.course, Aiffel.li[self.name][1], self.p_plus, self.p_minus]\n",
        "    # 명단 csv로 작성\n",
        "    with open('display_info.csv', 'w', newline='') as f:\n",
        "      writer = csv.writer(f)\n",
        "      writer.writerow(header)\n",
        "      for i in Aiffel.write:\n",
        "        writer.writerow(i)\n",
        "\n",
        "  # 2-6\n",
        "  def del_name(self, name):\n",
        "    if name in Aiffel.li.keys():\n",
        "      del Aiffel.li[name]"
      ],
      "metadata": {
        "id": "uqvouumlgaS8"
      },
      "execution_count": null,
      "outputs": []
    },
    {
      "cell_type": "code",
      "source": [
        "a = Aiffel('김건', 23, 26, 1)\n",
        "# 2-1\n",
        "a.make_id()\n",
        "print(a.li)\n",
        "# 2-2\n",
        "a.get_id_num()"
      ],
      "metadata": {
        "colab": {
          "base_uri": "https://localhost:8080/"
        },
        "id": "5H37LlnihrBC",
        "outputId": "c196a851-573e-47bb-fa1d-4f41751e266c"
      },
      "execution_count": null,
      "outputs": [
        {
          "output_type": "stream",
          "name": "stdout",
          "text": [
            "{'김건': ['2326101', 0, '그룹', '길드', 0], '김경민': ['2326102', 0, '그룹', '길드', 0], '김소연': ['2326103', 0, '그룹', '길드', 0], '김영신': ['2326104', 0, '그룹', '길드', 0], '박근수': ['2326105', 0, '그룹', '길드', 0], '박영수': ['2326106', 0, '그룹', '길드', 0], '박영준': ['2326107', 0, '그룹', '길드', 0], '서원영': ['2326108', 0, '그룹', '길드', 0], '신지만': ['2326109', 0, '그룹', '길드', 0], '심지안': ['2326110', 0, '그룹', '길드', 0], '이규상': ['2326111', 0, '그룹', '길드', 0], '이윤상': ['2326112', 0, '그룹', '길드', 0], '이진영': ['2326113', 0, '그룹', '길드', 0], '임현석': ['2326114', 0, '그룹', '길드', 0], '전요한': ['2326115', 0, '그룹', '길드', 0], '전재영': ['2326116', 0, '그룹', '길드', 0], '조대희': ['2326117', 0, '그룹', '길드', 0]}\n",
            "17\n"
          ]
        }
      ]
    },
    {
      "cell_type": "code",
      "source": [
        "b = Aiffel('김경민', 23, 26, 2)"
      ],
      "metadata": {
        "id": "PDMsJMB8S5Ra"
      },
      "execution_count": null,
      "outputs": []
    },
    {
      "cell_type": "code",
      "source": [
        "# 2-3\n",
        "a.score(3)\n",
        "a.p_plus"
      ],
      "metadata": {
        "colab": {
          "base_uri": "https://localhost:8080/"
        },
        "id": "tUW2v2QfaXpC",
        "outputId": "adb63497-1f16-48ad-e157-d46041f6d487"
      },
      "execution_count": null,
      "outputs": [
        {
          "output_type": "execute_result",
          "data": {
            "text/plain": [
              "3"
            ]
          },
          "metadata": {},
          "execution_count": 4
        }
      ]
    },
    {
      "cell_type": "code",
      "source": [
        "b.score(2)\n",
        "b.p_plus"
      ],
      "metadata": {
        "colab": {
          "base_uri": "https://localhost:8080/"
        },
        "id": "nAZ5t27LTCIN",
        "outputId": "48d5554c-bb01-4e3b-b4cd-f02757d38a9e"
      },
      "execution_count": null,
      "outputs": [
        {
          "output_type": "execute_result",
          "data": {
            "text/plain": [
              "2"
            ]
          },
          "metadata": {},
          "execution_count": 5
        }
      ]
    },
    {
      "cell_type": "code",
      "source": [
        "# 2-4\n",
        "a.penalty(-4)\n",
        "a.p_minus"
      ],
      "metadata": {
        "colab": {
          "base_uri": "https://localhost:8080/"
        },
        "id": "saS9Z9DmablO",
        "outputId": "7afe6402-fa8c-4a59-b955-21dee72cfacc"
      },
      "execution_count": null,
      "outputs": [
        {
          "output_type": "execute_result",
          "data": {
            "text/plain": [
              "-4"
            ]
          },
          "metadata": {},
          "execution_count": 6
        }
      ]
    },
    {
      "cell_type": "code",
      "source": [
        "# 2-5\n",
        "a.display_info()"
      ],
      "metadata": {
        "id": "45HJ0hFggHjF"
      },
      "execution_count": null,
      "outputs": []
    },
    {
      "cell_type": "code",
      "source": [
        "# 2-6 누적 확인\n",
        "b.display_info()"
      ],
      "metadata": {
        "id": "CiX8iWJ7Ti5D"
      },
      "execution_count": null,
      "outputs": []
    },
    {
      "cell_type": "code",
      "source": [
        "# 2-6\n",
        "a.del_name(\"김경민\")\n",
        "a.del_name(\"김영신\")\n",
        "a.li"
      ],
      "metadata": {
        "colab": {
          "base_uri": "https://localhost:8080/"
        },
        "id": "0VilYTPBEXP5",
        "outputId": "cf839445-3bfd-4ac7-e0ce-4c44ede93941"
      },
      "execution_count": null,
      "outputs": [
        {
          "output_type": "execute_result",
          "data": {
            "text/plain": [
              "{'김건': ['2326101', -1, '그룹', '길드', 0],\n",
              " '김소연': ['2326103', 0, '그룹', '길드', 0],\n",
              " '박근수': ['2326105', 0, '그룹', '길드', 0],\n",
              " '박영수': ['2326106', 0, '그룹', '길드', 0],\n",
              " '박영준': ['2326107', 0, '그룹', '길드', 0],\n",
              " '서원영': ['2326108', 0, '그룹', '길드', 0],\n",
              " '신지만': ['2326109', 0, '그룹', '길드', 0],\n",
              " '심지안': ['2326110', 0, '그룹', '길드', 0],\n",
              " '이규상': ['2326111', 0, '그룹', '길드', 0],\n",
              " '이윤상': ['2326112', 0, '그룹', '길드', 0],\n",
              " '이진영': ['2326113', 0, '그룹', '길드', 0],\n",
              " '임현석': ['2326114', 0, '그룹', '길드', 0],\n",
              " '전요한': ['2326115', 0, '그룹', '길드', 0],\n",
              " '전재영': ['2326116', 0, '그룹', '길드', 0],\n",
              " '조대희': ['2326117', 0, '그룹', '길드', 0]}"
            ]
          },
          "metadata": {},
          "execution_count": 9
        }
      ]
    },
    {
      "cell_type": "code",
      "source": [
        "import random\n",
        "\n",
        "class Aiffel_Group(Aiffel):\n",
        "  def __init__(self):\n",
        "    self.group_name = ['상생', '신뢰', '열정', '이끔', '성장', '가치', '공유', '확산']\n",
        "\n",
        "  # 2-7\n",
        "  def grouping_class(self, num):\n",
        "    self.num = num\n",
        "    group = random.sample(self.group_name, len(Aiffel.li.keys())//num)\n",
        "    p_name = list(Aiffel.li.keys())\n",
        "    random.shuffle(p_name)\n",
        "    start = 0\n",
        "    stop = start+num\n",
        "    for i in group:\n",
        "      if stop + num > len(Aiffel.li.keys()):\n",
        "        for j in p_name[start:]:\n",
        "          Aiffel.li[j][2] = i\n",
        "      else:\n",
        "        for j in p_name[start:stop]:\n",
        "          Aiffel.li[j][2] = i\n",
        "\n",
        "      start+=num\n",
        "      stop+=num\n",
        "\n",
        "  # 2-10\n",
        "  def group2guild_score(self, group_name, group_score):\n",
        "    for name in Aiffel.li.keys():\n",
        "      if group_name == Aiffel.li[name][2]:\n",
        "        Aiffel.li[name][4] += group_score\n"
      ],
      "metadata": {
        "id": "K2igNf29hv6n"
      },
      "execution_count": null,
      "outputs": []
    },
    {
      "cell_type": "code",
      "source": [
        "b = Aiffel_Group()\n",
        "# 2-7\n",
        "b.grouping_class(2)\n",
        "import pprint\n",
        "pprint.pprint(b.li)"
      ],
      "metadata": {
        "colab": {
          "base_uri": "https://localhost:8080/"
        },
        "id": "hUUpMIIB87Mp",
        "outputId": "63dba544-d3fa-4d35-cf1c-b76e6a913324"
      },
      "execution_count": null,
      "outputs": [
        {
          "output_type": "stream",
          "name": "stdout",
          "text": [
            "{'김건': ['2326101', -1, '열정', '길드', 0],\n",
            " '김소연': ['2326103', 0, '성장', '길드', 0],\n",
            " '박근수': ['2326105', 0, '이끔', '길드', 0],\n",
            " '박영수': ['2326106', 0, '상생', '길드', 0],\n",
            " '박영준': ['2326107', 0, '확산', '길드', 0],\n",
            " '서원영': ['2326108', 0, '가치', '길드', 0],\n",
            " '신지만': ['2326109', 0, '상생', '길드', 0],\n",
            " '심지안': ['2326110', 0, '확산', '길드', 0],\n",
            " '이규상': ['2326111', 0, '공유', '길드', 0],\n",
            " '이윤상': ['2326112', 0, '성장', '길드', 0],\n",
            " '이진영': ['2326113', 0, '공유', '길드', 0],\n",
            " '임현석': ['2326114', 0, '열정', '길드', 0],\n",
            " '전요한': ['2326115', 0, '이끔', '길드', 0],\n",
            " '전재영': ['2326116', 0, '성장', '길드', 0],\n",
            " '조대희': ['2326117', 0, '가치', '길드', 0]}\n"
          ]
        }
      ]
    },
    {
      "cell_type": "code",
      "source": [
        "# 2-10\n",
        "b.group2guild_score('상생', 2)\n",
        "b.li"
      ],
      "metadata": {
        "colab": {
          "base_uri": "https://localhost:8080/"
        },
        "id": "ZYpSHlDzyxJ5",
        "outputId": "b0d821ca-7024-4161-a8f0-bda25a74dc99"
      },
      "execution_count": null,
      "outputs": [
        {
          "output_type": "execute_result",
          "data": {
            "text/plain": [
              "{'김건': ['2326101', -1, '열정', '길드', 0],\n",
              " '김소연': ['2326103', 0, '성장', '길드', 0],\n",
              " '박근수': ['2326105', 0, '이끔', '길드', 0],\n",
              " '박영수': ['2326106', 0, '상생', '길드', 2],\n",
              " '박영준': ['2326107', 0, '확산', '길드', 0],\n",
              " '서원영': ['2326108', 0, '가치', '길드', 0],\n",
              " '신지만': ['2326109', 0, '상생', '길드', 2],\n",
              " '심지안': ['2326110', 0, '확산', '길드', 0],\n",
              " '이규상': ['2326111', 0, '공유', '길드', 0],\n",
              " '이윤상': ['2326112', 0, '성장', '길드', 0],\n",
              " '이진영': ['2326113', 0, '공유', '길드', 0],\n",
              " '임현석': ['2326114', 0, '열정', '길드', 0],\n",
              " '전요한': ['2326115', 0, '이끔', '길드', 0],\n",
              " '전재영': ['2326116', 0, '성장', '길드', 0],\n",
              " '조대희': ['2326117', 0, '가치', '길드', 0]}"
            ]
          },
          "metadata": {},
          "execution_count": 12
        }
      ]
    },
    {
      "cell_type": "code",
      "source": [
        "class Aiffel_Guild(Aiffel):\n",
        "\n",
        "  def __init__(self):\n",
        "    self.guild = ['힌튼', '알트만', '응', '하사비스']\n",
        "    self.guild_score\n",
        "\n",
        "  # 2-8\n",
        "  def grouping_guild(self):\n",
        "    p_name = list(Aiffel.li.keys())\n",
        "    random.shuffle(p_name)\n",
        "    num = len(Aiffel.li)//len(self.guild)\n",
        "    start = 0\n",
        "    stop = start+num\n",
        "    for i in self.guild:\n",
        "      if stop + num > len(Aiffel.li.keys()):\n",
        "        for j in p_name[start:]:\n",
        "          Aiffel.li[j][3] = i\n",
        "        break\n",
        "      else:\n",
        "        for j in p_name[start:stop]:\n",
        "          Aiffel.li[j][3] = i\n",
        "      start+=num\n",
        "      stop+=num\n",
        "\n",
        "  # 2-9\n",
        "  def guild_score(self, guild_name, score):\n",
        "    for name in Aiffel.li.keys():\n",
        "      if Aiffel.li[name][3] == guild_name:\n",
        "        Aiffel.li[name][1] += score"
      ],
      "metadata": {
        "id": "wS8KiOedBMHv"
      },
      "execution_count": null,
      "outputs": []
    },
    {
      "cell_type": "code",
      "source": [
        "# 2-8\n",
        "c = Aiffel_Guild()\n",
        "c.grouping_guild()\n",
        "c.li"
      ],
      "metadata": {
        "id": "n-Vgw9FyxQMp",
        "colab": {
          "base_uri": "https://localhost:8080/"
        },
        "outputId": "b0cfe143-a531-4567-981a-3ad8b9e8b499"
      },
      "execution_count": null,
      "outputs": [
        {
          "output_type": "execute_result",
          "data": {
            "text/plain": [
              "{'김건': ['2326101', -1, '열정', '힌튼', 0],\n",
              " '김소연': ['2326103', 0, '성장', '응', 0],\n",
              " '박근수': ['2326105', 0, '이끔', '길드', 0],\n",
              " '박영수': ['2326106', 0, '상생', '알트만', 2],\n",
              " '박영준': ['2326107', 0, '확산', '길드', 0],\n",
              " '서원영': ['2326108', 0, '가치', '알트만', 0],\n",
              " '신지만': ['2326109', 0, '상생', '하사비스', 2],\n",
              " '심지안': ['2326110', 0, '확산', '알트만', 0],\n",
              " '이규상': ['2326111', 0, '공유', '길드', 0],\n",
              " '이윤상': ['2326112', 0, '성장', '힌튼', 0],\n",
              " '이진영': ['2326113', 0, '공유', '응', 0],\n",
              " '임현석': ['2326114', 0, '열정', '힌튼', 0],\n",
              " '전요한': ['2326115', 0, '이끔', '응', 0],\n",
              " '전재영': ['2326116', 0, '성장', '하사비스', 0],\n",
              " '조대희': ['2326117', 0, '가치', '하사비스', 0]}"
            ]
          },
          "metadata": {},
          "execution_count": 14
        }
      ]
    },
    {
      "cell_type": "code",
      "source": [
        "# 2-9\n",
        "c.guild_score('응', +3)\n",
        "c.li"
      ],
      "metadata": {
        "colab": {
          "base_uri": "https://localhost:8080/"
        },
        "id": "jJEQyum8qtDa",
        "outputId": "09dab5f2-f280-4a3e-d536-4f280ae26618"
      },
      "execution_count": null,
      "outputs": [
        {
          "output_type": "execute_result",
          "data": {
            "text/plain": [
              "{'김건': ['2326101', -1, '열정', '힌튼', 0],\n",
              " '김소연': ['2326103', 3, '성장', '응', 0],\n",
              " '박근수': ['2326105', 0, '이끔', '길드', 0],\n",
              " '박영수': ['2326106', 0, '상생', '알트만', 2],\n",
              " '박영준': ['2326107', 0, '확산', '길드', 0],\n",
              " '서원영': ['2326108', 0, '가치', '알트만', 0],\n",
              " '신지만': ['2326109', 0, '상생', '하사비스', 2],\n",
              " '심지안': ['2326110', 0, '확산', '알트만', 0],\n",
              " '이규상': ['2326111', 0, '공유', '길드', 0],\n",
              " '이윤상': ['2326112', 0, '성장', '힌튼', 0],\n",
              " '이진영': ['2326113', 3, '공유', '응', 0],\n",
              " '임현석': ['2326114', 0, '열정', '힌튼', 0],\n",
              " '전요한': ['2326115', 3, '이끔', '응', 0],\n",
              " '전재영': ['2326116', 0, '성장', '하사비스', 0],\n",
              " '조대희': ['2326117', 0, '가치', '하사비스', 0]}"
            ]
          },
          "metadata": {},
          "execution_count": 15
        }
      ]
    }
  ]
}
