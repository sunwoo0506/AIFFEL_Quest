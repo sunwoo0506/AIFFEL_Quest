{
 "cells": [
  {
   "cell_type": "markdown",
   "id": "b538ce43",
   "metadata": {},
   "source": [
    "## 가위바위보 분류기를 만들자"
   ]
  },
  {
   "cell_type": "markdown",
   "id": "8e6fdf20",
   "metadata": {},
   "source": [
    "### 데이터 준비"
   ]
  },
  {
   "cell_type": "code",
   "execution_count": 57,
   "id": "f99c39cb",
   "metadata": {},
   "outputs": [
    {
     "name": "stdout",
     "output_type": "stream",
     "text": [
      "2.6.0\n",
      "1.22.2\n"
     ]
    }
   ],
   "source": [
    "#라이브러리 버전 확인 \n",
    "import tensorflow as tf\n",
    "import numpy as np\n",
    "\n",
    "print(tf.__version__)\n",
    "print(np.__version__)"
   ]
  },
  {
   "cell_type": "markdown",
   "id": "ace4f19c",
   "metadata": {},
   "source": [
    "1. 데이터 만들기\n",
    "- 구글의 teachable machine 사용 \n",
    "- 가위,바위,보 각 100장의 (224, 224, 3)이미지를 만들기 "
   ]
  },
  {
   "cell_type": "markdown",
   "id": "494d053e",
   "metadata": {},
   "source": [
    "2. 데이터 불러오기 _Resize하기\n",
    "- 숫자 손글씨의 경우 이미지 크기가 28x28 이었기 때문에, 우리의 가위, 바위, 보 이미지도 28x28로 만듦\n",
    "-PIL 라이브러리 사용"
   ]
  },
  {
   "cell_type": "code",
   "execution_count": 58,
   "id": "89b6f688",
   "metadata": {},
   "outputs": [
    {
     "name": "stdout",
     "output_type": "stream",
     "text": [
      "PIL 라이브러리 import 완료!\n"
     ]
    }
   ],
   "source": [
    "from PIL import Image\n",
    "import glob\n",
    "import os\n",
    "\n",
    "print(\"PIL 라이브러리 import 완료!\")\n"
   ]
  },
  {
   "cell_type": "code",
   "execution_count": 60,
   "id": "90a17905",
   "metadata": {},
   "outputs": [
    {
     "name": "stdout",
     "output_type": "stream",
     "text": [
      "515  images to be resized.\n",
      "515  images resized.\n",
      "가위 이미지 resize 완료!\n"
     ]
    }
   ],
   "source": [
    "\n",
    "def resize_images(img_path):\n",
    "\timages=glob.glob(img_path + \"/*.jpg\")     \n",
    "\n",
    "\tprint(len(images), \" images to be resized.\")\n",
    "\n",
    "#     # 파일마다 모두 28x28 사이즈로 바꾸어 저장합니다.\n",
    "\ttarget_size=(28,28)\n",
    "\tfor img in images:\n",
    "\t\told_img=Image.open(img)\n",
    "\t\tnew_img=old_img.resize(target_size,Image.ANTIALIAS)\n",
    "\t\tnew_img.save(img, \"JPEG\")\n",
    "    \n",
    "\tprint(len(images), \" images resized.\")\n",
    "\t\n",
    "# # 가위 이미지가 저장된 디렉토리 아래의 모든 jpg 파일을 읽어들여서\n",
    "image_dir_path = os.getenv(\"HOME\") + \"/aiffel/rock_scissor_paper/scissor/scissor\"\n",
    "resize_images(image_dir_path)\n",
    "\n",
    "print(\"가위 이미지 resize 완료!\")"
   ]
  },
  {
   "cell_type": "code",
   "execution_count": 61,
   "id": "cfa0117a",
   "metadata": {},
   "outputs": [
    {
     "name": "stdout",
     "output_type": "stream",
     "text": [
      "515  images to be resized.\n",
      "515  images resized.\n"
     ]
    }
   ],
   "source": [
    "# 바위 이미지가 저장된 디렉토리 아래의 모든 jpg 파일을 읽어들여서\n",
    "image_dir_path = os.getenv(\"HOME\") + \"/aiffel/rock_scissor_paper/rock/rock\"\n",
    "\n",
    "\n",
    "# 파일마다 모두 28x28 사이즈로 바꾸어 저장합니다.\n",
    "resize_images(image_dir_path)"
   ]
  },
  {
   "cell_type": "code",
   "execution_count": 62,
   "id": "2cfb8589",
   "metadata": {},
   "outputs": [
    {
     "name": "stdout",
     "output_type": "stream",
     "text": [
      "515  images to be resized.\n",
      "515  images resized.\n"
     ]
    }
   ],
   "source": [
    "# 보 이미지가 저장된 디렉토리 아래의 모든 jpg 파일을 읽어들여서\n",
    "image_dir_path = os.getenv(\"HOME\") + \"/aiffel/rock_scissor_paper/paper/paper\"\n",
    "\n",
    "# 파일마다 모두 28x28 사이즈로 바꾸어 저장합니다.\n",
    "resize_images(image_dir_path)"
   ]
  },
  {
   "cell_type": "markdown",
   "id": "47844b1c",
   "metadata": {},
   "source": [
    "3. load_data()함수 만들기\n",
    "- 입력으로 이미지가 있는 폴더 위치를 받음\n",
    "- 가위바위보의 경우 3개의 클래스 즉, 가위: 0, 바위: 1, 보: 2 로 라벨링"
   ]
  },
  {
   "cell_type": "code",
   "execution_count": 73,
   "id": "f9bb4ef5",
   "metadata": {},
   "outputs": [
    {
     "name": "stdout",
     "output_type": "stream",
     "text": [
      "학습데이터(x_train)의 이미지 개수는 1545 입니다.\n",
      "x_train shape: (1545, 28, 28, 3)\n",
      "y_train shape: (1545,)\n"
     ]
    }
   ],
   "source": [
    "# 가위, 바위, 보 데이터를 읽을 수 있는 load_data() 함수\n",
    "import numpy as np\n",
    "\n",
    "def load_data(img_path, number_of_data=1545):  # 가위바위보 이미지 개수 총합에 주의하세요.\n",
    "    # 가위 : 0, 바위 : 1, 보 : 2\n",
    "    img_size=28\n",
    "    color=3\n",
    "    #이미지 데이터와 라벨(가위 : 0, 바위 : 1, 보 : 2) 데이터를 담을 행렬(matrix) 영역을 생성합니다.\n",
    "    imgs=np.zeros(number_of_data*img_size*img_size*color,dtype=np.int32).reshape(number_of_data,img_size,img_size,color)\n",
    "    labels=np.zeros(number_of_data,dtype=np.int32)\n",
    "\n",
    "    idx=0\n",
    "    for file in glob.iglob(img_path+'/scissor/scissor/*.jpg'):\n",
    "        img = np.array(Image.open(file),dtype=np.int32)\n",
    "        imgs[idx,:,:,:]=img    # 데이터 영역에 이미지 행렬을 복사\n",
    "        labels[idx]=0   # 가위 : 0\n",
    "        idx=idx+1\n",
    "\n",
    "    for file in glob.iglob(img_path+'/rock/rock/*.jpg'):\n",
    "        img = np.array(Image.open(file),dtype=np.int32)\n",
    "        imgs[idx,:,:,:]=img    # 데이터 영역에 이미지 행렬을 복사\n",
    "        labels[idx]=1   # 바위 : 1\n",
    "        idx=idx+1  \n",
    "    \n",
    "    for file in glob.iglob(img_path+'/paper/paper/*.jpg'):\n",
    "        img = np.array(Image.open(file),dtype=np.int32)\n",
    "        imgs[idx,:,:,:]=img    # 데이터 영역에 이미지 행렬을 복사\n",
    "        labels[idx]=2   # 보 : 2\n",
    "        idx=idx+1\n",
    "        \n",
    "    print(\"학습데이터(x_train)의 이미지 개수는\", idx,\"입니다.\")\n",
    "    return imgs, labels\n",
    "\n",
    "image_dir_path = os.getenv(\"HOME\") + \"/aiffel/rock_scissor_paper\"\n",
    "(x_train, y_train)=load_data(image_dir_path)\n",
    "x_train_norm = x_train/255.0   # 입력은 0~1 사이의 값으로 정규화\n",
    "\n",
    "print(\"x_train shape: {}\".format(x_train.shape))\n",
    "print(\"y_train shape: {}\".format(y_train.shape))"
   ]
  },
  {
   "cell_type": "code",
   "execution_count": 74,
   "id": "02212666",
   "metadata": {},
   "outputs": [
    {
     "name": "stdout",
     "output_type": "stream",
     "text": [
      "라벨:  0\n"
     ]
    },
    {
     "data": {
      "image/png": "[encoded data removed]",
      "text/plain": [
       "<Figure size 432x288 with 1 Axes>"
      ]
     },
     "metadata": {
      "needs_background": "light"
     },
     "output_type": "display_data"
    }
   ],
   "source": [
    "# 이미지 abs불러오기\n",
    "import matplotlib.pyplot as plt\n",
    "\n",
    "plt.imshow(x_train[11])\n",
    "print('라벨: ', y_train[11])"
   ]
  },
  {
   "cell_type": "markdown",
   "id": "e28189ad",
   "metadata": {},
   "source": [
    "### 딥러닝 네트워크 설계하기\n"
   ]
  },
  {
   "cell_type": "code",
   "execution_count": 81,
   "id": "9493fbc9",
   "metadata": {},
   "outputs": [
    {
     "name": "stdout",
     "output_type": "stream",
     "text": [
      "Model: \"sequential_19\"\n",
      "_________________________________________________________________\n",
      "Layer (type)                 Output Shape              Param #   \n",
      "=================================================================\n",
      "conv2d_55 (Conv2D)           (None, 26, 26, 32)        896       \n",
      "_________________________________________________________________\n",
      "max_pooling2d_51 (MaxPooling (None, 13, 13, 32)        0         \n",
      "_________________________________________________________________\n",
      "conv2d_56 (Conv2D)           (None, 11, 11, 64)        18496     \n",
      "_________________________________________________________________\n",
      "max_pooling2d_52 (MaxPooling (None, 5, 5, 64)          0         \n",
      "_________________________________________________________________\n",
      "conv2d_57 (Conv2D)           (None, 3, 3, 128)         73856     \n",
      "_________________________________________________________________\n",
      "max_pooling2d_53 (MaxPooling (None, 1, 1, 128)         0         \n",
      "_________________________________________________________________\n",
      "flatten_12 (Flatten)         (None, 128)               0         \n",
      "_________________________________________________________________\n",
      "dense_22 (Dense)             (None, 32)                4128      \n",
      "_________________________________________________________________\n",
      "dense_23 (Dense)             (None, 3)                 99        \n",
      "=================================================================\n",
      "Total params: 97,475\n",
      "Trainable params: 97,475\n",
      "Non-trainable params: 0\n",
      "_________________________________________________________________\n"
     ]
    }
   ],
   "source": [
    "import tensorflow as tf\n",
    "from tensorflow import keras\n",
    "import numpy as np\n",
    "\n",
    "# model을 직접 만들어 보세요.\n",
    "# Hint! model의 입력/출력부에 특히 유의해 주세요. 가위바위보 데이터셋은 MNIST 데이터셋과 어떤 점이 달라졌나요?\n",
    "model = keras.models.Sequential()\n",
    "model.add(keras.layers.Conv2D(32, (3, 3), activation='relu', input_shape=(28, 28, 3)))\n",
    "model.add(keras.layers.MaxPooling2D((2, 2)))\n",
    "model.add(keras.layers.Conv2D(64, (3, 3), activation='relu'))\n",
    "model.add(keras.layers.MaxPooling2D((2, 2)))\n",
    "model.add(keras.layers.Conv2D(128, (3, 3), activation='relu'))\n",
    "model.add(keras.layers.MaxPooling2D((2, 2)))\n",
    "model.add(keras.layers.Flatten())\n",
    "model.add(keras.layers.Dense(32, activation='relu'))\n",
    "model.add(keras.layers.Dense(3, activation='softmax'))\n",
    "\n",
    "model.summary()"
   ]
  },
  {
   "cell_type": "markdown",
   "id": "62daef9b",
   "metadata": {},
   "source": [
    "### 딥러닝 네트워크 학습시키기\n"
   ]
  },
  {
   "cell_type": "code",
   "execution_count": 90,
   "id": "98316fe3",
   "metadata": {},
   "outputs": [
    {
     "name": "stdout",
     "output_type": "stream",
     "text": [
      "Epoch 1/20\n",
      "49/49 [==============================] - 3s 41ms/step - loss: 0.1715 - accuracy: 0.9430\n",
      "Epoch 2/20\n",
      "49/49 [==============================] - 2s 41ms/step - loss: 0.0538 - accuracy: 0.9838\n",
      "Epoch 3/20\n",
      "49/49 [==============================] - 2s 41ms/step - loss: 0.0274 - accuracy: 0.9968\n",
      "Epoch 4/20\n",
      "49/49 [==============================] - 2s 42ms/step - loss: 0.0172 - accuracy: 0.9981\n",
      "Epoch 5/20\n",
      "49/49 [==============================] - 2s 40ms/step - loss: 0.0319 - accuracy: 0.9935\n",
      "Epoch 6/20\n",
      "49/49 [==============================] - 2s 41ms/step - loss: 0.0100 - accuracy: 0.9987\n",
      "Epoch 7/20\n",
      "49/49 [==============================] - 2s 41ms/step - loss: 0.0054 - accuracy: 1.0000\n",
      "Epoch 8/20\n",
      "49/49 [==============================] - 2s 41ms/step - loss: 0.0030 - accuracy: 1.0000\n",
      "Epoch 9/20\n",
      "49/49 [==============================] - 2s 42ms/step - loss: 0.0018 - accuracy: 1.0000\n",
      "Epoch 10/20\n",
      "49/49 [==============================] - 2s 41ms/step - loss: 0.0015 - accuracy: 1.0000\n",
      "Epoch 11/20\n",
      "49/49 [==============================] - 2s 41ms/step - loss: 0.0012 - accuracy: 1.0000\n",
      "Epoch 12/20\n",
      "49/49 [==============================] - 2s 40ms/step - loss: 0.0011 - accuracy: 1.0000\n",
      "Epoch 13/20\n",
      "49/49 [==============================] - 2s 42ms/step - loss: 8.9303e-04 - accuracy: 1.0000\n",
      "Epoch 14/20\n",
      "49/49 [==============================] - 2s 41ms/step - loss: 8.4378e-04 - accuracy: 1.0000\n",
      "Epoch 15/20\n",
      "49/49 [==============================] - 2s 41ms/step - loss: 6.8490e-04 - accuracy: 1.0000\n",
      "Epoch 16/20\n",
      "49/49 [==============================] - 2s 41ms/step - loss: 6.6617e-04 - accuracy: 1.0000\n",
      "Epoch 17/20\n",
      "49/49 [==============================] - 2s 42ms/step - loss: 5.4059e-04 - accuracy: 1.0000\n",
      "Epoch 18/20\n",
      "49/49 [==============================] - 2s 42ms/step - loss: 5.9893e-04 - accuracy: 1.0000\n",
      "Epoch 19/20\n",
      "49/49 [==============================] - 2s 43ms/step - loss: 5.8914e-04 - accuracy: 1.0000\n",
      "Epoch 20/20\n",
      "49/49 [==============================] - 2s 42ms/step - loss: 4.2009e-04 - accuracy: 1.0000\n"
     ]
    },
    {
     "data": {
      "text/plain": [
       "<keras.callbacks.History at 0x7fb80a9e24c0>"
      ]
     },
     "execution_count": 90,
     "metadata": {},
     "output_type": "execute_result"
    }
   ],
   "source": [
    "# model을 학습시키는 코드를 직접 작성해 보세요.\n",
    "# Hint! model.compile()과 model.fit()을 사용해 봅시다.\n",
    "model.compile(optimizer='adam',\n",
    "             loss='sparse_categorical_crossentropy',\n",
    "             metrics=['accuracy'])\n",
    "\n",
    "model.fit(x_train, y_train, epochs=20)\n"
   ]
  },
  {
   "cell_type": "markdown",
   "id": "99f0d7fc",
   "metadata": {},
   "source": [
    "### 얼마나 잘 만들었는지 확인하기(테스트)\n"
   ]
  },
  {
   "cell_type": "markdown",
   "id": "6c70542d",
   "metadata": {},
   "source": [
    "1. 테스트데이터 x_test, y_test 만들기 "
   ]
  },
  {
   "cell_type": "code",
   "execution_count": 88,
   "id": "017b6ab8",
   "metadata": {},
   "outputs": [
    {
     "name": "stdout",
     "output_type": "stream",
     "text": [
      "100  images to be resized.\n",
      "100  images resized.\n",
      "100  images to be resized.\n",
      "100  images resized.\n",
      "100  images to be resized.\n",
      "100  images resized.\n",
      "학습데이터(x_train)의 이미지 개수는 0 입니다.\n"
     ]
    },
    {
     "data": {
      "text/plain": [
       "(300, 28, 28, 3)"
      ]
     },
     "execution_count": 88,
     "metadata": {},
     "output_type": "execute_result"
    }
   ],
   "source": [
    "# # x_test, y_test를 만드는 방법은 x_train, y_train을 만드는 방법과 아주 유사합니다.\n",
    "\n",
    "test_image_dir_path = os.getenv(\"HOME\") + \"/aiffel/rock_scissor_paper/test\"\n",
    "\n",
    "resize_images(test_image_dir_path + \"/scissor\")\n",
    "resize_images(test_image_dir_path + \"/rock\")\n",
    "resize_images(test_image_dir_path + \"/paper\")\n",
    "\n",
    "\n",
    "(x_test, y_test) = load_data(test_image_dir_path, number_of_data=300)\n",
    "x_test_norm = x_test.astype('float32') / 255.0\n",
    "x_test_norm.shape"
   ]
  },
  {
   "cell_type": "markdown",
   "id": "dcef6ac9",
   "metadata": {},
   "source": [
    "2. test_accuracy를 측정\n"
   ]
  },
  {
   "cell_type": "code",
   "execution_count": 89,
   "id": "8dbbd250",
   "metadata": {},
   "outputs": [
    {
     "name": "stdout",
     "output_type": "stream",
     "text": [
      "10/10 - 0s - loss: 1.1031 - accuracy: 0.0000e+00\n",
      "test_loss: 1.1030951738357544 \n",
      "test_accuracy: 0.0\n"
     ]
    }
   ],
   "source": [
    "# model을 학습시키는 코드를 직접 작성해 보세요.\n",
    "# Hint! model.evaluate()을 사용해 봅시다.\n",
    "test_loss, test_accuracy = model.evaluate(x_test, y_test, verbose=2)\n",
    "print(f\"test_loss: {test_loss} \")\n",
    "print(f\"test_accuracy: {test_accuracy}\")"
   ]
  },
  {
   "cell_type": "markdown",
   "id": "22b048e5",
   "metadata": {},
   "source": [
    "### 더 좋은 네트워크 만들어보기\n"
   ]
  },
  {
   "cell_type": "markdown",
   "id": "7c7b157b",
   "metadata": {},
   "source": [
    "1. 학습데이터셋 추가\n",
    " 가위,바위,보 데이터넷 515개로 변경\n",
    "  \n",
    "    "
   ]
  },
  {
   "cell_type": "markdown",
   "id": "b378cc94",
   "metadata": {},
   "source": [
    "2. 하이퍼파라미터 조정\n",
    "n_channel_1=32\n",
    "n_channel_2=32\n",
    "n_dense=32\n",
    "n_train_epoch=10\n",
    "\n",
    "\n",
    "|n_channel_1|n_channel_2|n_dense|n_train_epoch|accuracy|\n",
    "|---|---|---|---|---|\n",
    "|32|32|32|10|0.4099999964237213|\n",
    "|16|32|32|10|0.3566666543483734|\n",
    "|64|32|32|10|0.3499999940395355|\n",
    "|32|64|32|10|0.3100000023841858|\n",
    "\n"
   ]
  },
  {
   "cell_type": "code",
   "execution_count": 79,
   "id": "8c5eeb00",
   "metadata": {},
   "outputs": [
    {
     "name": "stdout",
     "output_type": "stream",
     "text": [
      "Model: \"sequential_18\"\n",
      "_________________________________________________________________\n",
      "Layer (type)                 Output Shape              Param #   \n",
      "=================================================================\n",
      "conv2d_52 (Conv2D)           (None, 26, 26, 32)        896       \n",
      "_________________________________________________________________\n",
      "max_pooling2d_48 (MaxPooling (None, 13, 13, 32)        0         \n",
      "_________________________________________________________________\n",
      "conv2d_53 (Conv2D)           (None, 11, 11, 32)        9248      \n",
      "_________________________________________________________________\n",
      "max_pooling2d_49 (MaxPooling (None, 5, 5, 32)          0         \n",
      "_________________________________________________________________\n",
      "conv2d_54 (Conv2D)           (None, 3, 3, 128)         36992     \n",
      "_________________________________________________________________\n",
      "max_pooling2d_50 (MaxPooling (None, 1, 1, 128)         0         \n",
      "_________________________________________________________________\n",
      "flatten_11 (Flatten)         (None, 128)               0         \n",
      "_________________________________________________________________\n",
      "dense_20 (Dense)             (None, 32)                4128      \n",
      "_________________________________________________________________\n",
      "dense_21 (Dense)             (None, 3)                 99        \n",
      "=================================================================\n",
      "Total params: 51,363\n",
      "Trainable params: 51,363\n",
      "Non-trainable params: 0\n",
      "_________________________________________________________________\n"
     ]
    }
   ],
   "source": [
    "n_channel_1=32\n",
    "n_channel_2=32\n",
    "n_dense=32\n",
    "n_train_epoch=20\n",
    "\n",
    "\n",
    "model = keras.models.Sequential()\n",
    "model.add(keras.layers.Conv2D(n_channel_1, (3, 3), activation='relu', input_shape=(28, 28, 3)))\n",
    "model.add(keras.layers.MaxPooling2D((2, 2)))\n",
    "model.add(keras.layers.Conv2D(n_channel_2, (3, 3), activation='relu'))\n",
    "model.add(keras.layers.MaxPooling2D((2, 2)))\n",
    "model.add(keras.layers.Conv2D(128, (3, 3), activation='relu'))\n",
    "model.add(keras.layers.MaxPooling2D((2, 2)))\n",
    "model.add(keras.layers.Flatten())\n",
    "model.add(keras.layers.Dense(units=n_dense, activation='relu'))\n",
    "model.add(keras.layers.Dense(3, activation='softmax'))\n",
    "\n",
    "model.summary()\n"
   ]
  },
  {
   "cell_type": "code",
   "execution_count": 51,
   "id": "e3e6d893",
   "metadata": {},
   "outputs": [
    {
     "name": "stdout",
     "output_type": "stream",
     "text": [
      "Epoch 1/10\n",
      "10/10 [==============================] - 1s 38ms/step - loss: 7.1921 - accuracy: 0.4200\n",
      "Epoch 2/10\n",
      "10/10 [==============================] - 0s 40ms/step - loss: 1.0816 - accuracy: 0.5367\n",
      "Epoch 3/10\n",
      "10/10 [==============================] - 0s 40ms/step - loss: 0.9981 - accuracy: 0.5500\n",
      "Epoch 4/10\n",
      "10/10 [==============================] - 0s 40ms/step - loss: 0.5551 - accuracy: 0.7700\n",
      "Epoch 5/10\n",
      "10/10 [==============================] - 0s 37ms/step - loss: 0.3905 - accuracy: 0.8633\n",
      "Epoch 6/10\n",
      "10/10 [==============================] - 0s 37ms/step - loss: 0.2508 - accuracy: 0.9633\n",
      "Epoch 7/10\n",
      "10/10 [==============================] - 0s 38ms/step - loss: 0.1755 - accuracy: 0.9733\n",
      "Epoch 8/10\n",
      "10/10 [==============================] - 0s 38ms/step - loss: 0.1248 - accuracy: 0.9900\n",
      "Epoch 9/10\n",
      "10/10 [==============================] - 0s 37ms/step - loss: 0.0800 - accuracy: 0.9967\n",
      "Epoch 10/10\n",
      "10/10 [==============================] - 0s 41ms/step - loss: 0.0646 - accuracy: 1.0000\n"
     ]
    },
    {
     "data": {
      "text/plain": [
       "<keras.callbacks.History at 0x7fb812fb9d30>"
      ]
     },
     "execution_count": 51,
     "metadata": {},
     "output_type": "execute_result"
    }
   ],
   "source": [
    "model.compile(optimizer='adam',\n",
    "             loss='sparse_categorical_crossentropy',\n",
    "             metrics=['accuracy'])\n",
    "\n",
    "model.fit(x_train, y_train, epochs=n_train_epoch)\n"
   ]
  },
  {
   "cell_type": "code",
   "execution_count": 52,
   "id": "1c84e308",
   "metadata": {},
   "outputs": [
    {
     "name": "stdout",
     "output_type": "stream",
     "text": [
      "10/10 - 0s - loss: 1.7889 - accuracy: 0.3100\n",
      "test_loss: 1.7888669967651367 \n",
      "test_accuracy: 0.3100000023841858\n"
     ]
    }
   ],
   "source": [
    "test_loss, test_accuracy = model.evaluate(x_test, y_test, verbose=2)\n",
    "print(f\"test_loss: {test_loss} \")\n",
    "print(f\"test_accuracy: {test_accuracy}\")"
   ]
  },
  {
   "cell_type": "markdown",
   "id": "01e2d157",
   "metadata": {},
   "source": [
    "내 데이터만 가지고 학습을 시켰을때는 accuracy 측정이 되었는데 개선을 위해 데이터를 추가한 이후 accuracy 측정이 안되었다. \n",
    "테스트 이후에 코드에 대해서 재학습이 필요하다. "
   ]
  }
 ],
 "metadata": {
  "kernelspec": {
   "display_name": "Python 3 (ipykernel)",
   "language": "python",
   "name": "python3"
  },
  "language_info": {
   "codemirror_mode": {
    "name": "ipython",
    "version": 3
   },
   "file_extension": ".py",
   "mimetype": "text/x-python",
   "name": "python",
   "nbconvert_exporter": "python",
   "pygments_lexer": "ipython3",
   "version": "3.9.7"
  }
 },
 "nbformat": 4,
 "nbformat_minor": 5
}
