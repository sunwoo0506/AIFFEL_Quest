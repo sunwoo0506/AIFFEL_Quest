{
 "cells": [
  {
   "cell_type": "markdown",
   "id": "16bba63b",
   "metadata": {},
   "source": [
    "**데이터 로드 및 전처리** \n",
    "* reuters 데이터셋을 로드하고, 훈련 데이터셋에서 25%를 검증 데이터셋으로 분리\n",
    "* 데이터셋은 keras.datasets에서 불러올 수 있는 reuters 데이터 셋을 활용\n",
    "* 파라메터 조정을 통해 단어의 개수는 10000개로 제한합니다(num_words=10000).\n",
    "* 데이터셋 분리 작업에서는 sklearn 라이브러리의 train_test_split 함수를 활용\n",
    "* 훈련, 검증, 테스트 데이터와 레이블 종류가 몇개인지 출력합니다."
   ]
  },
  {
   "cell_type": "code",
   "execution_count": 10,
   "id": "b0ca154c",
   "metadata": {},
   "outputs": [],
   "source": [
    "import numpy as np\n",
    "import matplotlib.pyplot as plt\n",
    "from sklearn.model_selection import train_test_split\n",
    "\n",
    "from tensorflow.keras import models, layers\n",
    "from tensorflow.keras import callbacks\n",
    "from tensorflow.keras import utils\n",
    "from keras.datasets import reuters"
   ]
  },
  {
   "cell_type": "code",
   "execution_count": 11,
   "id": "dc14b442",
   "metadata": {},
   "outputs": [
    {
     "name": "stdout",
     "output_type": "stream",
     "text": [
      "6736\n",
      "2246\n",
      "2246\n",
      "46\n"
     ]
    }
   ],
   "source": [
    "# 문제 2-1: reuters 데이터셋을 로드하고, 훈련 데이터셋에서 25%를 검증 데이터셋으로 분리합니다.\n",
    "\n",
    "(train_data, train_labels), (test_data, test_labels) = reuters.load_data(num_words=10000)\n",
    "\n",
    "train_data, val_data, train_labels, val_labels = train_test_split(train_data, train_labels, test_size=0.25, random_state=2023)\n",
    "\n",
    "\n",
    "# 훈련, 검증, 테스트 데이터와 레이블 종류가 몇 개인지 출력합니다.\n",
    "print(len(train_data))\n",
    "print(len(val_data))\n",
    "print(len(test_data))\n",
    "print(len(set(train_labels)))"
   ]
  },
  {
   "cell_type": "markdown",
   "id": "c3f10bbb",
   "metadata": {},
   "source": [
    "* 텍스트 데이터의 전처리를 위해서 각 데이터셋마다 원-핫 인코딩을 수행.\n",
    "* 레이블 데이터들은 범주형 형태로 to_categorical() 함수를 사용해 변환"
   ]
  },
  {
   "cell_type": "code",
   "execution_count": 12,
   "id": "ce84d69a",
   "metadata": {},
   "outputs": [
    {
     "name": "stdout",
     "output_type": "stream",
     "text": [
      "[0. 1. 0. ... 0. 0. 0.]\n",
      "[0. 1. 1. ... 0. 0. 0.]\n",
      "[0. 1. 1. ... 0. 0. 0.]\n",
      "[0. 0. 0. 0. 0. 0. 0. 0. 0. 0. 0. 0. 0. 0. 0. 0. 0. 0. 0. 0. 0. 0. 0. 0.\n",
      " 0. 0. 0. 0. 0. 0. 0. 0. 1. 0. 0. 0. 0. 0. 0. 0. 0. 0. 0. 0. 0. 0.]\n",
      "[0. 0. 0. 0. 0. 0. 0. 0. 0. 0. 0. 0. 0. 0. 0. 0. 0. 0. 0. 0. 1. 0. 0. 0.\n",
      " 0. 0. 0. 0. 0. 0. 0. 0. 0. 0. 0. 0. 0. 0. 0. 0. 0. 0. 0. 0. 0. 0.]\n",
      "[0. 0. 0. 0. 0. 0. 0. 0. 0. 0. 0. 1. 0. 0. 0. 0. 0. 0. 0. 0. 0. 0. 0. 0.\n",
      " 0. 0. 0. 0. 0. 0. 0. 0. 0. 0. 0. 0. 0. 0. 0. 0. 0. 0. 0. 0. 0. 0.]\n"
     ]
    }
   ],
   "source": [
    "# 문제 2-2: 텍스트 데이터의 전처리를 위해서 각 데이터셋마다 원-핫 인코딩을 수행합니다.\n",
    "def one_hot_encoding(data, dim=10000):\n",
    "    results = np.zeros((len(data), dim))\n",
    "    for i, d in enumerate(data):\n",
    "        results[i, d] = 1.\n",
    "    return results\n",
    "\n",
    "x_train = one_hot_encoding(train_data)\n",
    "x_val = one_hot_encoding(val_data)\n",
    "x_test = one_hot_encoding(test_data)\n",
    "\n",
    "# 레이블 데이터들은 범주형 형태로 to_categorical() 함수를 사용해 변환합니다.\n",
    "y_train = utils.to_categorical(train_labels)\n",
    "y_val = utils.to_categorical(val_labels)\n",
    "y_test = utils.to_categorical(test_labels)\n",
    "\n",
    "print(x_train[15])\n",
    "print(x_val[15])\n",
    "print(x_test[15])\n",
    "print(y_train[15])\n",
    "print(y_val[15])\n",
    "print(y_test[15])"
   ]
  },
  {
   "cell_type": "markdown",
   "id": "383c48d6",
   "metadata": {},
   "source": [
    "**모델 구성 및 컴파일**\n",
    "\n",
    "* BatchNormalization과 Dropout을 적용하여 빠르게 학습하면서 과대적합을 방지\n",
    "* 46개의 뉴스 주제를 분류하는 딥러닝 모델을 구성\n",
    "\n",
    "\n",
    "\n"
   ]
  },
  {
   "cell_type": "code",
   "execution_count": 20,
   "id": "f0b549f7",
   "metadata": {},
   "outputs": [
    {
     "name": "stdout",
     "output_type": "stream",
     "text": [
      "Model: \"sequential_3\"\n",
      "_________________________________________________________________\n",
      " Layer (type)                Output Shape              Param #   \n",
      "=================================================================\n",
      " dense_9 (Dense)             (None, 64)                640064    \n",
      "                                                                 \n",
      " batch_normalization_6 (Bat  (None, 64)                256       \n",
      " chNormalization)                                                \n",
      "                                                                 \n",
      " activation_6 (Activation)   (None, 64)                0         \n",
      "                                                                 \n",
      " dropout_6 (Dropout)         (None, 64)                0         \n",
      "                                                                 \n",
      " dense_10 (Dense)            (None, 64)                4160      \n",
      "                                                                 \n",
      " batch_normalization_7 (Bat  (None, 64)                256       \n",
      " chNormalization)                                                \n",
      "                                                                 \n",
      " activation_7 (Activation)   (None, 64)                0         \n",
      "                                                                 \n",
      " dropout_7 (Dropout)         (None, 64)                0         \n",
      "                                                                 \n",
      " dense_11 (Dense)            (None, 46)                2990      \n",
      "                                                                 \n",
      "=================================================================\n",
      "Total params: 647726 (2.47 MB)\n",
      "Trainable params: 647470 (2.47 MB)\n",
      "Non-trainable params: 256 (1.00 KB)\n",
      "_________________________________________________________________\n"
     ]
    }
   ],
   "source": [
    "# 문제 2-3: 빠른 학습과 과대적합을 방지하기 위해 BatchNormalization과 Dropout을 적용한 딥러닝 모델을 구성합니다.\n",
    "\n",
    "model = models.Sequential()\n",
    "model.add(layers.Input(shape=(10000, )))\n",
    "model.add(layers.Dense(64))\n",
    "model.add(layers.BatchNormalization())\n",
    "model.add(layers.Activation('relu')) \n",
    "model.add(layers.Dropout(0.5))\n",
    "model.add(layers.Dense(64))\n",
    "model.add(layers.BatchNormalization())\n",
    "model.add(layers.Activation('relu')) \n",
    "model.add(layers.Dropout(0.5))\n",
    "model.add(layers.Dense(46, activation='softmax'))\n",
    "model.summary()\n",
    "\n",
    "model.compile(loss='categorical_crossentropy',\n",
    "              optimizer='rmsprop', metrics=['accuracy'])\n"
   ]
  },
  {
   "cell_type": "markdown",
   "id": "635bebdd",
   "metadata": {},
   "source": [
    "**모델 학습**\n",
    "*ModelCheckpoint와 EarlyStopping 콜백 함수를 적용하여 모델 학습을 진행합니다."
   ]
  },
  {
   "cell_type": "code",
   "execution_count": 21,
   "id": "167cff6b",
   "metadata": {},
   "outputs": [
    {
     "name": "stdout",
     "output_type": "stream",
     "text": [
      "Epoch 1/60\n",
      "211/211 [==============================] - 2s 7ms/step - loss: 2.1158 - accuracy: 0.5145 - val_loss: 1.6132 - val_accuracy: 0.6946\n",
      "Epoch 2/60\n",
      " 29/211 [===>..........................] - ETA: 1s - loss: 1.5557 - accuracy: 0.6261"
     ]
    },
    {
     "name": "stderr",
     "output_type": "stream",
     "text": [
      "C:\\Users\\sunw0506\\anaconda3\\Lib\\site-packages\\keras\\src\\engine\\training.py:3079: UserWarning: You are saving your model as an HDF5 file via `model.save()`. This file format is considered legacy. We recommend using instead the native Keras format, e.g. `model.save('my_model.keras')`.\n",
      "  saving_api.save_model(\n"
     ]
    },
    {
     "name": "stdout",
     "output_type": "stream",
     "text": [
      "211/211 [==============================] - 1s 6ms/step - loss: 1.5310 - accuracy: 0.6357 - val_loss: 1.2853 - val_accuracy: 0.7182\n",
      "Epoch 3/60\n",
      "211/211 [==============================] - 1s 6ms/step - loss: 1.3482 - accuracy: 0.6780 - val_loss: 1.2381 - val_accuracy: 0.7280\n",
      "Epoch 4/60\n",
      "211/211 [==============================] - 1s 6ms/step - loss: 1.2253 - accuracy: 0.7046 - val_loss: 1.2026 - val_accuracy: 0.7507\n",
      "Epoch 5/60\n",
      "211/211 [==============================] - 1s 6ms/step - loss: 1.1660 - accuracy: 0.7231 - val_loss: 1.1867 - val_accuracy: 0.7573\n",
      "Epoch 6/60\n",
      "211/211 [==============================] - 1s 6ms/step - loss: 1.0970 - accuracy: 0.7389 - val_loss: 1.1672 - val_accuracy: 0.7649\n",
      "Epoch 7/60\n",
      "211/211 [==============================] - 1s 6ms/step - loss: 1.0274 - accuracy: 0.7564 - val_loss: 1.1827 - val_accuracy: 0.7680\n",
      "Epoch 8/60\n",
      "211/211 [==============================] - 1s 6ms/step - loss: 0.9984 - accuracy: 0.7634 - val_loss: 1.1916 - val_accuracy: 0.7738\n",
      "Epoch 9/60\n",
      "211/211 [==============================] - 1s 6ms/step - loss: 0.9713 - accuracy: 0.7674 - val_loss: 1.1823 - val_accuracy: 0.7818\n",
      "Epoch 10/60\n",
      "211/211 [==============================] - 1s 6ms/step - loss: 0.9216 - accuracy: 0.7818 - val_loss: 1.1887 - val_accuracy: 0.7787\n",
      "Epoch 11/60\n",
      "211/211 [==============================] - 1s 6ms/step - loss: 0.9064 - accuracy: 0.7812 - val_loss: 1.2208 - val_accuracy: 0.7774\n",
      "Epoch 12/60\n",
      "211/211 [==============================] - 1s 6ms/step - loss: 0.8626 - accuracy: 0.7933 - val_loss: 1.2359 - val_accuracy: 0.7765\n",
      "Epoch 13/60\n",
      "211/211 [==============================] - 1s 6ms/step - loss: 0.8387 - accuracy: 0.7953 - val_loss: 1.2173 - val_accuracy: 0.7809\n",
      "Epoch 14/60\n",
      "211/211 [==============================] - 1s 6ms/step - loss: 0.8277 - accuracy: 0.8057 - val_loss: 1.2498 - val_accuracy: 0.7850\n",
      "Epoch 15/60\n",
      "211/211 [==============================] - 1s 6ms/step - loss: 0.8293 - accuracy: 0.8040 - val_loss: 1.2616 - val_accuracy: 0.7778\n",
      "Epoch 16/60\n",
      "211/211 [==============================] - 1s 6ms/step - loss: 0.8123 - accuracy: 0.8055 - val_loss: 1.2605 - val_accuracy: 0.7805\n"
     ]
    }
   ],
   "source": [
    "# 문제 2-4: ModelCheckpoint와 EarlyStopping 콜백 함수를 적용하여 모델 학습을 진행합니다.\n",
    "check_point_cb = callbacks.ModelCheckpoint('Reuters_model.h5', \n",
    "                                           save_best_only=True)\n",
    "early_stopping_cb = callbacks.EarlyStopping(patience=10, \n",
    "                                            monitor='val_loss',\n",
    "                                            restore_best_weights=True)\n",
    "history = model.fit(x_train, y_train, epochs=60,\n",
    "                    validation_data=(x_val, y_val),\n",
    "                    callbacks=[check_point_cb, early_stopping_cb])"
   ]
  },
  {
   "cell_type": "code",
   "execution_count": 22,
   "id": "20b74bea",
   "metadata": {},
   "outputs": [
    {
     "name": "stderr",
     "output_type": "stream",
     "text": [
      "C:\\Users\\sunw0506\\AppData\\Local\\Temp\\ipykernel_11880\\2054681030.py:2: MatplotlibDeprecationWarning: The seaborn styles shipped by Matplotlib are deprecated since 3.6, as they no longer correspond to the styles shipped by seaborn. However, they will remain available as 'seaborn-v0_8-<style>'. Alternatively, directly use the seaborn API instead.\n",
      "  plt.style.use('seaborn-white')\n"
     ]
    },
    {
     "data": {
      "image/png": "[encoded data removed]",
      "text/plain": [
       "<Figure size 1200x500 with 2 Axes>"
      ]
     },
     "metadata": {},
     "output_type": "display_data"
    }
   ],
   "source": [
    "# 학습 히스토리의 `loss`, `val_loss`, `accuracy`, `val_accuracy`를 차트로 시각화합니다.\n",
    "plt.style.use('seaborn-white')\n",
    "\n",
    "history_dict = history.history\n",
    "\n",
    "loss = history_dict['loss']\n",
    "val_loss = history_dict['val_loss']\n",
    "\n",
    "epochs = range(1, len(loss) + 1)\n",
    "fig = plt.figure(figsize=(12, 5))\n",
    "\n",
    "ax1 = fig.add_subplot(1, 2, 1)\n",
    "ax1.plot(epochs, loss, 'b-', label='train_loss')\n",
    "ax1.plot(epochs, val_loss, 'r-', label='val_loss')\n",
    "ax1.set_title('Train and Validation Loss')\n",
    "ax1.set_xlabel('Epochs')\n",
    "ax1.set_ylabel('Loss')\n",
    "ax1.grid()\n",
    "ax1.legend()\n",
    "\n",
    "accuracy = history_dict['accuracy']\n",
    "val_accuracy = history_dict['val_accuracy']\n",
    "\n",
    "ax2 = fig.add_subplot(1, 2, 2)\n",
    "ax2.plot(epochs, accuracy, 'b-', label='train_accuracy')\n",
    "ax2.plot(epochs, val_accuracy, 'r-', label='val_accuracy')\n",
    "ax2.set_title('Train and Validation Accuracy')\n",
    "ax2.set_xlabel('Epochs')\n",
    "ax2.set_ylabel('Accuracy')\n",
    "ax2.grid()\n",
    "ax2.legend()\n",
    "\n",
    "plt.show()\n",
    "\n",
    "\n",
    "\n"
   ]
  },
  {
   "cell_type": "markdown",
   "id": "e5830a8b",
   "metadata": {},
   "source": [
    "**모델 평가 및 예측**\n"
   ]
  },
  {
   "cell_type": "code",
   "execution_count": 16,
   "id": "3383605c",
   "metadata": {},
   "outputs": [
    {
     "name": "stdout",
     "output_type": "stream",
     "text": [
      "71/71 [==============================] - 0s 3ms/step - loss: 0.8968 - accuracy: 0.8108\n"
     ]
    },
    {
     "data": {
      "text/plain": [
       "[0.8967916965484619, 0.8107746839523315]"
      ]
     },
     "execution_count": 16,
     "metadata": {},
     "output_type": "execute_result"
    }
   ],
   "source": [
    "# 문제 2-5: 테스트 데이터셋을 이용해 모델을 평가합니다.\n",
    "model.evaluate(x_test, y_test)"
   ]
  }
 ],
 "metadata": {
  "kernelspec": {
   "display_name": "Python 3 (ipykernel)",
   "language": "python",
   "name": "python3"
  },
  "language_info": {
   "codemirror_mode": {
    "name": "ipython",
    "version": 3
   },
   "file_extension": ".py",
   "mimetype": "text/x-python",
   "name": "python",
   "nbconvert_exporter": "python",
   "pygments_lexer": "ipython3",
   "version": "3.11.5"
  }
 },
 "nbformat": 4,
 "nbformat_minor": 5
}
