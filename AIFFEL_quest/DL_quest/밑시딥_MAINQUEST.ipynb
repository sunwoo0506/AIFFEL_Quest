{
 "cells": [
  {
   "cell_type": "markdown",
   "id": "e4f863b1",
   "metadata": {},
   "source": [
    "## 가위바위보 분류기를 만들자"
   ]
  },
  {
   "cell_type": "markdown",
   "id": "306a2b13",
   "metadata": {},
   "source": [
    "### 데이터 준비"
   ]
  },
  {
   "cell_type": "code",
   "execution_count": 1,
   "id": "f148ec54",
   "metadata": {},
   "outputs": [
    {
     "name": "stdout",
     "output_type": "stream",
     "text": [
      "2.6.0\n",
      "1.22.2\n"
     ]
    }
   ],
   "source": [
    "#라이브러리 버전 확인 \n",
    "import tensorflow as tf\n",
    "import numpy as np\n",
    "\n",
    "print(tf.__version__)\n",
    "print(np.__version__)"
   ]
  },
  {
   "cell_type": "markdown",
   "id": "9a7108f7",
   "metadata": {},
   "source": [
    "1. 데이터 만들기\n",
    "- 구글의 teachable machine 사용 \n",
    "- 가위,바위,보 각 100장의 (224, 224, 3)이미지를 만들기 "
   ]
  },
  {
   "cell_type": "markdown",
   "id": "1ebc83e3",
   "metadata": {},
   "source": [
    "2. 데이터 불러오기 _Resize하기\n",
    "- 숫자 손글씨의 경우 이미지 크기가 28x28 이었기 때문에, 우리의 가위, 바위, 보 이미지도 28x28로 만듦\n",
    "-PIL 라이브러리 사용"
   ]
  },
  {
   "cell_type": "code",
   "execution_count": 2,
   "id": "4cff68d6",
   "metadata": {},
   "outputs": [
    {
     "name": "stdout",
     "output_type": "stream",
     "text": [
      "PIL 라이브러리 import 완료!\n"
     ]
    }
   ],
   "source": [
    "from PIL import Image\n",
    "import glob\n",
    "import os\n",
    "\n",
    "print(\"PIL 라이브러리 import 완료!\")\n"
   ]
  },
  {
   "cell_type": "code",
   "execution_count": 3,
   "id": "7f95de19",
   "metadata": {},
   "outputs": [
    {
     "name": "stdout",
     "output_type": "stream",
     "text": [
      "1354  images to be resized.\n",
      "1354  images resized.\n",
      "가위 이미지 resize 완료!\n"
     ]
    }
   ],
   "source": [
    "\n",
    "def resize_images(img_path):\n",
    "    images=glob.glob(img_path + \"/*.jpg\")     \n",
    "\n",
    "    print(len(images), \" images to be resized.\")\n",
    "\n",
    "# 파일마다 모두 28x28 사이즈로 바꾸어 저장합니다.\n",
    "    target_size = (28, 28)\n",
    "    \n",
    "    successful_resizes = 0\n",
    "    for img in images:\n",
    "        try:\n",
    "            old_img = Image.open(img)\n",
    "            if old_img.mode != 'RGB':\n",
    "                old_img = old_img.convert('RGB')\n",
    "            new_img = old_img.resize(target_size, Image.ANTIALIAS)\n",
    "            new_img.save(img, \"JPEG\")\n",
    "            successful_resizes += 1\n",
    "        except Exception as e:\n",
    "            print(f\"{img}를 리사이즈할 수 없습니다: {str(e)}\")\n",
    "    \n",
    "    print(len(images), \" images resized.\")\n",
    "\n",
    "# # 가위 이미지가 저장된 디렉토리 아래의 모든 jpg 파일을 읽어들여서\n",
    "image_dir_path = os.getenv(\"HOME\") + \"/aiffel/rock_scissor_paper/scissor\"\n",
    "resize_images(image_dir_path)\n",
    "\n",
    "print(\"가위 이미지 resize 완료!\")"
   ]
  },
  {
   "cell_type": "code",
   "execution_count": 4,
   "id": "b89b4f3c",
   "metadata": {},
   "outputs": [
    {
     "name": "stdout",
     "output_type": "stream",
     "text": [
      "1355  images to be resized.\n",
      "1355  images resized.\n"
     ]
    }
   ],
   "source": [
    "# 바위 이미지가 저장된 디렉토리 아래의 모든 jpg 파일을 읽어들여서\n",
    "image_dir_path = os.getenv(\"HOME\") + \"/aiffel/rock_scissor_paper/rock\"\n",
    "\n",
    "\n",
    "# 파일마다 모두 28x28 사이즈로 바꾸어 저장합니다.\n",
    "resize_images(image_dir_path)"
   ]
  },
  {
   "cell_type": "code",
   "execution_count": 5,
   "id": "cdcc7580",
   "metadata": {},
   "outputs": [
    {
     "name": "stdout",
     "output_type": "stream",
     "text": [
      "1355  images to be resized.\n",
      "1355  images resized.\n"
     ]
    }
   ],
   "source": [
    "# 보 이미지가 저장된 디렉토리 아래의 모든 jpg 파일을 읽어들여서\n",
    "image_dir_path = os.getenv(\"HOME\") + \"/aiffel/rock_scissor_paper/paper\"\n",
    "\n",
    "# 파일마다 모두 28x28 사이즈로 바꾸어 저장합니다.\n",
    "resize_images(image_dir_path)"
   ]
  },
  {
   "cell_type": "markdown",
   "id": "aa2f3b19",
   "metadata": {},
   "source": [
    "3. load_data()함수 만들기\n",
    "- 입력으로 이미지가 있는 폴더 위치를 받음\n",
    "- 가위바위보의 경우 3개의 클래스 즉, 가위: 0, 바위: 1, 보: 2 로 라벨링"
   ]
  },
  {
   "cell_type": "code",
   "execution_count": 11,
   "id": "f7335a58",
   "metadata": {},
   "outputs": [
    {
     "name": "stdout",
     "output_type": "stream",
     "text": [
      "학습데이터(x_train)의 이미지 개수는 4064 입니다.\n",
      "x_train shape: (4064, 28, 28, 3)\n",
      "y_train shape: (4064,)\n"
     ]
    }
   ],
   "source": [
    "# 가위, 바위, 보 데이터를 읽을 수 있는 load_data() 함수\n",
    "import numpy as np\n",
    "\n",
    "def load_data(img_path, number_of_data=4064):  # 가위바위보 이미지 개수 총합에 주의하세요.\n",
    "    # 가위 : 0, 바위 : 1, 보 : 2\n",
    "    img_size=28\n",
    "    color=3\n",
    "    #이미지 데이터와 라벨(가위 : 0, 바위 : 1, 보 : 2) 데이터를 담을 행렬(matrix) 영역을 생성합니다.\n",
    "    imgs=np.zeros(number_of_data*img_size*img_size*color,dtype=np.int32).reshape(number_of_data,img_size,img_size,color)\n",
    "    labels=np.zeros(number_of_data,dtype=np.int32)\n",
    "\n",
    "    idx=0\n",
    "    for file in glob.iglob(img_path+'/scissor/*.jpg'):\n",
    "        img = np.array(Image.open(file),dtype=np.int32)\n",
    "        imgs[idx,:,:,:]=img    # 데이터 영역에 이미지 행렬을 복사\n",
    "        labels[idx]=0   # 가위 : 0\n",
    "        idx=idx+1\n",
    "\n",
    "    for file in glob.iglob(img_path+'/rock/*.jpg'):\n",
    "        img = np.array(Image.open(file),dtype=np.int32)\n",
    "        imgs[idx,:,:,:]=img    # 데이터 영역에 이미지 행렬을 복사\n",
    "        labels[idx]=1   # 바위 : 1\n",
    "        idx=idx+1  \n",
    "    \n",
    "    for file in glob.iglob(img_path+'/paper/*.jpg'):\n",
    "        img = np.array(Image.open(file),dtype=np.int32)\n",
    "        imgs[idx,:,:,:]=img    # 데이터 영역에 이미지 행렬을 복사\n",
    "        labels[idx]=2   # 보 : 2\n",
    "        idx=idx+1\n",
    "        \n",
    "    print(\"학습데이터(x_train)의 이미지 개수는\", idx,\"입니다.\")\n",
    "    return imgs, labels\n",
    "\n",
    "image_dir_path = os.getenv(\"HOME\") + \"/aiffel/rock_scissor_paper\"\n",
    "(x_train, y_train)=load_data(image_dir_path)\n",
    "x_train_norm = x_train.astype('float32') /255.0   # 입력은 0~1 사이의 값으로 정규화\n",
    "\n",
    "print(\"x_train shape: {}\".format(x_train.shape))\n",
    "print(\"y_train shape: {}\".format(y_train.shape))"
   ]
  },
  {
   "cell_type": "code",
   "execution_count": 12,
   "id": "e8b242d8",
   "metadata": {},
   "outputs": [
    {
     "name": "stdout",
     "output_type": "stream",
     "text": [
      "라벨:  0\n"
     ]
    },
    {
     "data": {
      "image/png": "[encoded data removed]",
      "text/plain": [
       "<Figure size 432x288 with 1 Axes>"
      ]
     },
     "metadata": {
      "needs_background": "light"
     },
     "output_type": "display_data"
    }
   ],
   "source": [
    "# 이미지 abs불러오기\n",
    "import matplotlib.pyplot as plt\n",
    "\n",
    "plt.imshow(x_train[0])\n",
    "print('라벨: ', y_train[0])"
   ]
  },
  {
   "cell_type": "markdown",
   "id": "bc6920a6",
   "metadata": {},
   "source": [
    "### 딥러닝 네트워크 설계하기\n"
   ]
  },
  {
   "cell_type": "code",
   "execution_count": 16,
   "id": "c9c3f5c3",
   "metadata": {},
   "outputs": [
    {
     "name": "stdout",
     "output_type": "stream",
     "text": [
      "Model: \"sequential_2\"\n",
      "_________________________________________________________________\n",
      "Layer (type)                 Output Shape              Param #   \n",
      "=================================================================\n",
      "conv2d_6 (Conv2D)            (None, 26, 26, 32)        896       \n",
      "_________________________________________________________________\n",
      "max_pooling2d_6 (MaxPooling2 (None, 13, 13, 32)        0         \n",
      "_________________________________________________________________\n",
      "conv2d_7 (Conv2D)            (None, 11, 11, 64)        18496     \n",
      "_________________________________________________________________\n",
      "max_pooling2d_7 (MaxPooling2 (None, 5, 5, 64)          0         \n",
      "_________________________________________________________________\n",
      "conv2d_8 (Conv2D)            (None, 3, 3, 128)         73856     \n",
      "_________________________________________________________________\n",
      "max_pooling2d_8 (MaxPooling2 (None, 1, 1, 128)         0         \n",
      "_________________________________________________________________\n",
      "flatten_2 (Flatten)          (None, 128)               0         \n",
      "_________________________________________________________________\n",
      "dense_4 (Dense)              (None, 32)                4128      \n",
      "_________________________________________________________________\n",
      "dense_5 (Dense)              (None, 3)                 99        \n",
      "=================================================================\n",
      "Total params: 97,475\n",
      "Trainable params: 97,475\n",
      "Non-trainable params: 0\n",
      "_________________________________________________________________\n"
     ]
    }
   ],
   "source": [
    "import tensorflow as tf\n",
    "from tensorflow import keras\n",
    "\n",
    "import numpy as np\n",
    "\n",
    "# model을 직접 만들어 보세요.\n",
    "# Hint! model의 입력/출력부에 특히 유의해 주세요. 가위바위보 데이터셋은 MNIST 데이터셋과 어떤 점이 달라졌나요?\n",
    "model = keras.models.Sequential()\n",
    "model.add(keras.layers.Conv2D(32, (3, 3), activation='relu', input_shape=(28, 28, 3)))\n",
    "model.add(keras.layers.MaxPooling2D((2, 2)))\n",
    "model.add(keras.layers.Conv2D(64, (3, 3), activation='relu'))\n",
    "model.add(keras.layers.MaxPooling2D((2, 2)))\n",
    "model.add(keras.layers.Conv2D(128, (3, 3), activation='relu'))\n",
    "model.add(keras.layers.MaxPooling2D((2, 2)))\n",
    "model.add(keras.layers.Flatten())\n",
    "model.add(keras.layers.Dense(32, activation='relu'))\n",
    "model.add(keras.layers.Dense(3, activation='softmax'))\n",
    "\n",
    "model.summary()"
   ]
  },
  {
   "cell_type": "markdown",
   "id": "18461297",
   "metadata": {},
   "source": [
    "### 딥러닝 네트워크 학습시키기\n"
   ]
  },
  {
   "cell_type": "code",
   "execution_count": 17,
   "id": "aaa98882",
   "metadata": {},
   "outputs": [
    {
     "name": "stdout",
     "output_type": "stream",
     "text": [
      "Epoch 1/10\n",
      "127/127 [==============================] - 6s 39ms/step - loss: 0.8975 - accuracy: 0.5458\n",
      "Epoch 2/10\n",
      "127/127 [==============================] - 5s 41ms/step - loss: 0.3984 - accuracy: 0.8381\n",
      "Epoch 3/10\n",
      "127/127 [==============================] - 5s 40ms/step - loss: 0.2200 - accuracy: 0.9250\n",
      "Epoch 4/10\n",
      "127/127 [==============================] - 5s 40ms/step - loss: 0.1421 - accuracy: 0.9530\n",
      "Epoch 5/10\n",
      "127/127 [==============================] - 5s 40ms/step - loss: 0.0931 - accuracy: 0.9683\n",
      "Epoch 6/10\n",
      "127/127 [==============================] - 5s 41ms/step - loss: 0.0641 - accuracy: 0.9801\n",
      "Epoch 7/10\n",
      "127/127 [==============================] - 5s 40ms/step - loss: 0.0463 - accuracy: 0.9882\n",
      "Epoch 8/10\n",
      "127/127 [==============================] - 5s 40ms/step - loss: 0.0419 - accuracy: 0.9862\n",
      "Epoch 9/10\n",
      "127/127 [==============================] - 5s 40ms/step - loss: 0.0238 - accuracy: 0.9943\n",
      "Epoch 10/10\n",
      "127/127 [==============================] - 5s 41ms/step - loss: 0.0234 - accuracy: 0.9943\n"
     ]
    },
    {
     "data": {
      "text/plain": [
       "<keras.callbacks.History at 0x7fadb7564520>"
      ]
     },
     "execution_count": 17,
     "metadata": {},
     "output_type": "execute_result"
    }
   ],
   "source": [
    "# model을 학습시키는 코드를 직접 작성해 보세요.\n",
    "# Hint! model.compile()과 model.fit()을 사용해 봅시다.\n",
    "model.compile(optimizer='adam',\n",
    "             loss='sparse_categorical_crossentropy',\n",
    "             metrics=['accuracy'])\n",
    "\n",
    "model.fit(x_train_norm, y_train, epochs=10)\n"
   ]
  },
  {
   "cell_type": "markdown",
   "id": "3e3e2684",
   "metadata": {},
   "source": [
    "### 얼마나 잘 만들었는지 확인하기(테스트)\n"
   ]
  },
  {
   "cell_type": "markdown",
   "id": "921f1fb6",
   "metadata": {},
   "source": [
    "1. 테스트데이터 x_test, y_test 만들기 "
   ]
  },
  {
   "cell_type": "code",
   "execution_count": 18,
   "id": "1d943a0b",
   "metadata": {},
   "outputs": [
    {
     "name": "stdout",
     "output_type": "stream",
     "text": [
      "100  images to be resized.\n",
      "100  images resized.\n",
      "100  images to be resized.\n",
      "100  images resized.\n",
      "100  images to be resized.\n",
      "100  images resized.\n",
      "학습데이터(x_train)의 이미지 개수는 300 입니다.\n"
     ]
    },
    {
     "data": {
      "text/plain": [
       "(300, 28, 28, 3)"
      ]
     },
     "execution_count": 18,
     "metadata": {},
     "output_type": "execute_result"
    }
   ],
   "source": [
    "# # x_test, y_test를 만드는 방법은 x_train, y_train을 만드는 방법과 아주 유사합니다.\n",
    "\n",
    "test_image_dir_path = os.getenv(\"HOME\") + \"/aiffel/rock_scissor_paper/test\"\n",
    "\n",
    "resize_images(test_image_dir_path + \"/scissor\")\n",
    "resize_images(test_image_dir_path + \"/rock\")\n",
    "resize_images(test_image_dir_path + \"/paper\")\n",
    "\n",
    "\n",
    "(x_test, y_test) = load_data(test_image_dir_path, number_of_data=300)\n",
    "x_test_norm = x_test.astype('float32') / 255.0\n",
    "x_test_norm.shape"
   ]
  },
  {
   "cell_type": "markdown",
   "id": "c5bfd79c",
   "metadata": {},
   "source": [
    "2. test_accuracy를 측정\n"
   ]
  },
  {
   "cell_type": "code",
   "execution_count": 19,
   "id": "ab15f14c",
   "metadata": {},
   "outputs": [
    {
     "name": "stdout",
     "output_type": "stream",
     "text": [
      "10/10 - 0s - loss: 1.0745 - accuracy: 0.6267\n",
      "test_loss: 1.07454252243042 \n",
      "test_accuracy: 0.6266666650772095\n"
     ]
    }
   ],
   "source": [
    "# model을 학습시키는 코드를 직접 작성해 보세요.\n",
    "# Hint! model.evaluate()을 사용해 봅시다.\n",
    "test_loss, test_accuracy = model.evaluate(x_test_norm, y_test, verbose=2)\n",
    "print(f\"test_loss: {test_loss} \")\n",
    "print(f\"test_accuracy: {test_accuracy}\")"
   ]
  },
  {
   "cell_type": "markdown",
   "id": "b36bab92",
   "metadata": {},
   "source": [
    "### 더 좋은 네트워크 만들어보기\n"
   ]
  },
  {
   "cell_type": "markdown",
   "id": "e27a647c",
   "metadata": {},
   "source": [
    "1. 학습데이터셋 추가\n",
    " 가위,바위,보 학습데이터넷 총 4064개로 추가\n",
    " 그루 데이터 + 캐글 데이터 \n",
    "    "
   ]
  },
  {
   "cell_type": "markdown",
   "id": "c81befa4",
   "metadata": {},
   "source": [
    "2. 하이퍼파라미터 조정\n"
   ]
  },
  {
   "cell_type": "code",
   "execution_count": 32,
   "id": "ff8dc5f4",
   "metadata": {},
   "outputs": [
    {
     "name": "stdout",
     "output_type": "stream",
     "text": [
      "Model: \"sequential_7\"\n",
      "_________________________________________________________________\n",
      "Layer (type)                 Output Shape              Param #   \n",
      "=================================================================\n",
      "conv2d_21 (Conv2D)           (None, 26, 26, 64)        1792      \n",
      "_________________________________________________________________\n",
      "max_pooling2d_21 (MaxPooling (None, 13, 13, 64)        0         \n",
      "_________________________________________________________________\n",
      "conv2d_22 (Conv2D)           (None, 11, 11, 128)       73856     \n",
      "_________________________________________________________________\n",
      "max_pooling2d_22 (MaxPooling (None, 5, 5, 128)         0         \n",
      "_________________________________________________________________\n",
      "conv2d_23 (Conv2D)           (None, 3, 3, 64)          73792     \n",
      "_________________________________________________________________\n",
      "max_pooling2d_23 (MaxPooling (None, 1, 1, 64)          0         \n",
      "_________________________________________________________________\n",
      "flatten_7 (Flatten)          (None, 64)                0         \n",
      "_________________________________________________________________\n",
      "dense_14 (Dense)             (None, 32)                2080      \n",
      "_________________________________________________________________\n",
      "dropout_6 (Dropout)          (None, 32)                0         \n",
      "_________________________________________________________________\n",
      "dense_15 (Dense)             (None, 3)                 99        \n",
      "=================================================================\n",
      "Total params: 151,619\n",
      "Trainable params: 151,619\n",
      "Non-trainable params: 0\n",
      "_________________________________________________________________\n"
     ]
    }
   ],
   "source": [
    "\n",
    "model = tf.keras.models.Sequential()\n",
    "model.add(tf.keras.layers.Conv2D(64, (3, 3), activation='relu', input_shape=(28,28,3)))\n",
    "model.add(tf.keras.layers.MaxPooling2D((2, 2)))\n",
    "model.add(tf.keras.layers.Conv2D(128, (3, 3), activation='relu'))\n",
    "model.add(tf.keras.layers.MaxPooling2D((2, 2)))\n",
    "model.add(tf.keras.layers.Conv2D(64, (3, 3), activation='relu'))\n",
    "model.add(tf.keras.layers.MaxPooling2D((2, 2)))\n",
    "\n",
    "model.add(tf.keras.layers.Flatten())\n",
    "model.add(tf.keras.layers.Dense(32, activation='relu'))\n",
    "model.add(keras.layers.Dropout(0.2))\n",
    "model.add(tf.keras.layers.Dense(3, activation='softmax'))\n",
    "model.summary()\n"
   ]
  },
  {
   "cell_type": "code",
   "execution_count": 33,
   "id": "60e9951b",
   "metadata": {},
   "outputs": [
    {
     "data": {
      "image/png": "[encoded data removed]",
      "text/plain": [
       "<IPython.core.display.Image object>"
      ]
     },
     "execution_count": 33,
     "metadata": {},
     "output_type": "execute_result"
    }
   ],
   "source": [
    "keras.utils.plot_model(model, show_shapes=True, dpi = 70)\n"
   ]
  },
  {
   "cell_type": "code",
   "execution_count": 34,
   "id": "cb034ab7",
   "metadata": {},
   "outputs": [
    {
     "name": "stdout",
     "output_type": "stream",
     "text": [
      "Epoch 1/10\n",
      "41/41 [==============================] - 11s 262ms/step - loss: 0.9649 - accuracy: 0.5258 - val_loss: 1.1130 - val_accuracy: 0.3533\n",
      "Epoch 2/10\n",
      "41/41 [==============================] - 11s 263ms/step - loss: 0.5811 - accuracy: 0.7493 - val_loss: 1.1832 - val_accuracy: 0.3333\n",
      "Epoch 3/10\n",
      "41/41 [==============================] - 11s 265ms/step - loss: 0.3812 - accuracy: 0.8438 - val_loss: 0.9774 - val_accuracy: 0.4467\n",
      "Epoch 4/10\n",
      "41/41 [==============================] - 11s 263ms/step - loss: 0.2661 - accuracy: 0.9053 - val_loss: 0.8548 - val_accuracy: 0.5900\n",
      "Epoch 5/10\n",
      "41/41 [==============================] - 11s 260ms/step - loss: 0.2600 - accuracy: 0.9050 - val_loss: 0.9304 - val_accuracy: 0.4967\n",
      "Epoch 6/10\n",
      "41/41 [==============================] - 11s 261ms/step - loss: 0.1623 - accuracy: 0.9478 - val_loss: 0.8303 - val_accuracy: 0.6067\n",
      "Epoch 7/10\n",
      "41/41 [==============================] - 11s 263ms/step - loss: 0.1221 - accuracy: 0.9592 - val_loss: 0.9051 - val_accuracy: 0.5300\n",
      "Epoch 8/10\n",
      "41/41 [==============================] - 11s 263ms/step - loss: 0.0964 - accuracy: 0.9724 - val_loss: 0.8479 - val_accuracy: 0.5533\n",
      "Epoch 9/10\n",
      "41/41 [==============================] - 11s 265ms/step - loss: 0.0813 - accuracy: 0.9717 - val_loss: 0.9426 - val_accuracy: 0.4767\n",
      "Epoch 10/10\n",
      "41/41 [==============================] - 11s 262ms/step - loss: 0.0542 - accuracy: 0.9870 - val_loss: 1.0730 - val_accuracy: 0.4533\n"
     ]
    }
   ],
   "source": [
    "from tensorflow.keras.callbacks import EarlyStopping\n",
    "\n",
    "\n",
    "EPOCHS = 10\n",
    "BATCH_SIZE = 100\n",
    "\n",
    "model.compile(optimizer='adam',\n",
    "             loss='sparse_categorical_crossentropy',\n",
    "             metrics=['accuracy'])\n",
    "\n",
    "history = model.fit(x_train_norm, y_train,  epochs=EPOCHS, batch_size = BATCH_SIZE , validation_data = (x_test_norm, y_test))\n"
   ]
  },
  {
   "cell_type": "code",
   "execution_count": 35,
   "id": "b73bb625",
   "metadata": {},
   "outputs": [
    {
     "name": "stdout",
     "output_type": "stream",
     "text": [
      "10/10 - 0s - loss: 251.2144 - accuracy: 0.6133\n",
      "test_loss: 251.2144012451172 \n",
      "test_accuracy: 0.6133333444595337\n"
     ]
    }
   ],
   "source": [
    "test_loss, test_accuracy = model.evaluate(x_test, y_test, verbose=2)\n",
    "print(f\"test_loss: {test_loss} \")\n",
    "print(f\"test_accuracy: {test_accuracy}\")"
   ]
  },
  {
   "cell_type": "markdown",
   "id": "bdaf2827",
   "metadata": {},
   "source": [
    "### 시각화"
   ]
  },
  {
   "cell_type": "code",
   "execution_count": 36,
   "id": "ab5730a8",
   "metadata": {},
   "outputs": [
    {
     "data": {
      "image/png": "[encoded data removed]",
      "text/plain": [
       "<Figure size 1080x360 with 2 Axes>"
      ]
     },
     "metadata": {
      "needs_background": "light"
     },
     "output_type": "display_data"
    }
   ],
   "source": [
    "import pandas as pd\n",
    "\n",
    "hist = pd.DataFrame(history.history)\n",
    "hist['epoch'] = range(1, EPOCHS+1)\n",
    "\n",
    "plt.figure(figsize=(15, 5))\n",
    "\n",
    "plt.subplot(1,2,1)\n",
    "plt.title('Loss')\n",
    "plt.xlabel('Epoch')\n",
    "plt.ylabel('Loss')\n",
    "plt.plot(hist['epoch'], hist['loss'], label='train')\n",
    "plt.plot(hist['epoch'], hist['val_loss'], label = 'test')\n",
    "# plt.ylim([0, 1.5])\n",
    "plt.grid(True)\n",
    "plt.legend()\n",
    "\n",
    "plt.subplot(1,2,2)\n",
    "plt.title('Accuracy')\n",
    "plt.xlabel('Epoch')\n",
    "plt.ylabel('Accuracy')\n",
    "plt.plot(hist['epoch'], hist['accuracy'], label='train')\n",
    "plt.plot(hist['epoch'], hist['val_accuracy'], label='test')\n",
    "plt.ylim(0, 1.05)\n",
    "plt.grid(True)\n",
    "plt.legend()\n",
    "\n",
    "plt.show()"
   ]
  },
  {
   "cell_type": "markdown",
   "id": "95a4ad37",
   "metadata": {},
   "source": [
    "학습데이터를 300개만 가지고 테스트를 했을때는 대략 30% 정도의 정확도가 나왔는데 \n",
    "개선을 위한 방법으로 \n",
    "1. 학습데이터를 대략 4000개로 추가시켰더니 62%로 정확도가 증가하였다. \n",
    "2. 배치정규화를 시켜보았는데 학습속도가 빨라진 것을 확인할 수 있었고 \n",
    "3. 드롭아웃 레이어와 수치를 변경시켜보면서 정확도의 변화를 확인할 수 있었다.\n",
    "\n",
    "하지만 아직도 모델의 성능을 개선하기 위한 방법을 찾지 못하여 오히려 하이퍼파라미터나 과적합 방지를 위한 모델들을 추가해봐도 정확도가 개선되지 않아 이미지 증강을 통한 데이터의 양을 더 추가시키고 정규화 등을 통한 데이터 처리 부분과 하이퍼 파라미터 및 여러 방법들의 상관관계에 대한 학습이 많이 필요하다 생각된다.  "
   ]
  },
  {
   "cell_type": "code",
   "execution_count": null,
   "id": "ca29a7c9",
   "metadata": {},
   "outputs": [],
   "source": []
  }
 ],
 "metadata": {
  "kernelspec": {
   "display_name": "Python 3 (ipykernel)",
   "language": "python",
   "name": "python3"
  },
  "language_info": {
   "codemirror_mode": {
    "name": "ipython",
    "version": 3
   },
   "file_extension": ".py",
   "mimetype": "text/x-python",
   "name": "python",
   "nbconvert_exporter": "python",
   "pygments_lexer": "ipython3",
   "version": "3.9.7"
  }
 },
 "nbformat": 4,
 "nbformat_minor": 5
}
