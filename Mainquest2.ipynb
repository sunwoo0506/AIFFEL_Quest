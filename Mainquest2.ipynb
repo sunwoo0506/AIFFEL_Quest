{
  "nbformat": 4,
  "nbformat_minor": 0,
  "metadata": {
    "colab": {
      "provenance": [],
      "authorship_tag": "ABX9TyMnTKPtnu1MFnSGmlAaOmVE",
      "include_colab_link": true
    },
    "kernelspec": {
      "name": "python3",
      "display_name": "Python 3"
    },
    "language_info": {
      "name": "python"
    }
  },
  "cells": [
    {
      "cell_type": "markdown",
      "metadata": {
        "id": "view-in-github",
        "colab_type": "text"
      },
      "source": [
        "<a href=\"https://colab.research.google.com/github/sunwoo0506/AIFFEL_Quest/blob/main/Mainquest2.ipynb\" target=\"_parent\"><img src=\"https://colab.research.google.com/assets/colab-badge.svg\" alt=\"Open In Colab\"/></a>"
      ]
    },
    {
      "cell_type": "code",
      "execution_count": 12,
      "metadata": {
        "colab": {
          "base_uri": "https://localhost:8080/"
        },
        "id": "iH4fkHzi-VOJ",
        "outputId": "d3878fa8-c50d-48cc-9b94-9be5cb9b24b0"
      },
      "outputs": [
        {
          "output_type": "stream",
          "name": "stdout",
          "text": [
            "**TEST**\n",
            "생성된 학번의 총 개수 : 17.\n",
            "────────────────────\n",
            "학생 이름을 입력하세요: 박근수\n",
            "**현재 점수**\n",
            "이름: 박근수\n",
            "학번: 2327205\n",
            "코스 타입: Core\n",
            "추가된 점수: 0\n",
            "뺀 점수: 0\n",
            "총 점수: 0\n",
            "────────────────────\n",
            "추가 점수를 입력하세요: 2\n",
            "빼는 점수를 입력하세요: 3\n",
            "────────────────────\n",
            "변경 후 점수\n",
            "이름: 박근수\n",
            "학번: 2327205\n",
            "코스 타입: Core\n",
            "추가된 점수: 2\n",
            "뺀 점수: 3\n",
            "총 점수: -1\n",
            "────────────────────\n"
          ]
        }
      ],
      "source": [
        "# 코어명단\n",
        "names = {'김건': 0, '김경민': 0, '김소연': 0, '김영신': 0, '박근수': 0, '박영수': 0, '박영준': 0, '서원영': 0, '신지만': 0, '심지안': 0, '이규상': 0, '이윤상': 0, '이진영': 0, '임현석': 0, '전요한': 0, '전재영': 0, '조대희':0}\n",
        "\n",
        "\n",
        "class Aiffel:\n",
        "    count = 0             # 총 학생 수\n",
        "    id_list = []          # studen ID 리스트\n",
        "    students = {}         # student 객체\n",
        "    year = '2023'\n",
        "    num = '27'\n",
        "    course_type = \"Core\"\n",
        "\n",
        "    def __init__(self, name, year, num, course_type):\n",
        "        self.name = name\n",
        "        Aiffel.count += 1\n",
        "        self.year = str(year)[-2:]  # 년도의 뒤 2자리\n",
        "        self.num = num\n",
        "\n",
        "        # course_type에 따라 course_id 결정\n",
        "        if course_type == \"Research\":\n",
        "            self.course_id = \"1\"\n",
        "        elif course_type == \"Core\":\n",
        "            self.course_id = \"2\"\n",
        "        else:\n",
        "            print(\"과정이 잘못 입력되었습니다.\")\n",
        "\n",
        "        # 이름 가,나,다 순 순자 배열(2자리로 만들기)\n",
        "        if Aiffel.count < 10:\n",
        "            self.index = \"0\" + str(Aiffel.count)\n",
        "        else:\n",
        "            self.index = str(Aiffel.count)\n",
        "\n",
        "        self.student_id = self.year + self.num + self.course_id + self.index # 조합해서 학번생성\n",
        "        self.total = 0\n",
        "        self.added = 0\n",
        "        self.minus = 0\n",
        "\n",
        "        # 생성된 학번을 id_list에 추가하고 학생이름을 studunets에 추가하기\n",
        "        Aiffel.id_list.append(self)\n",
        "        Aiffel.students[self.name] = self\n",
        "\n",
        "\n",
        "    # 점수 추가\n",
        "    def add_score(self, score):\n",
        "        if 1 <= score <= 3:\n",
        "            self.total += score\n",
        "            self.added += score\n",
        "        else:\n",
        "            print(\"점수 범위를 벗어났습니다. 1에서 3까지 숫자를 입력해주세요\")\n",
        "    # 점수 차감\n",
        "    def minus_score(self, score):\n",
        "        self.total -= score\n",
        "        self.minus += score\n",
        "    # 정보 + 점수 표시\n",
        "    def display_info(self):\n",
        "        print(f\"이름: {self.name}\")\n",
        "        print(f\"학번: {self.student_id}\")\n",
        "        print(f\"코스 타입: {Aiffel.course_type}\")\n",
        "        print(f\"추가된 점수: {self.added}\")\n",
        "        print(f\"뺀 점수: {self.minus}\")\n",
        "        print(f\"총 점수: {self.total}\")\n",
        "\n",
        "\n",
        "print(\"**TEST**\")\n",
        "\n",
        "# 학생 객체 생성\n",
        "for name in names:\n",
        "    Aiffel(name, Aiffel.year, Aiffel.num, Aiffel.course_type)\n",
        "\n",
        "print(f\"생성된 학번의 총 개수 : {Aiffel.count}.\")\n",
        "print(\"─\"*20)\n",
        "\n",
        "# 점수 변동 관리\n",
        "while True:\n",
        "    input_name = input(\"학생 이름을 입력하세요: \")\n",
        "\n",
        "    if input_name in Aiffel.students:\n",
        "        student = Aiffel.students[input_name]\n",
        "\n",
        "        print(\"**현재 점수**\")  # 점수 변경전 상태를 보여줌\n",
        "        student.display_info()\n",
        "        print(\"─\"*20)\n",
        "\n",
        "        add = int(input(\"추가 점수를 입력하세요: \"))\n",
        "        student.add_score(add)\n",
        "\n",
        "        minus = int(input(\"빼는 점수를 입력하세요: \"))\n",
        "        student.minus_score(minus)\n",
        "\n",
        "        print(\"─\"*20)\n",
        "        print(\"변경 후 점수\")   # 변경점수 반영 후 상태를 보여줌\n",
        "        student.display_info()\n",
        "        print(\"─\"*20)\n",
        "        break\n",
        "\n",
        "    else:\n",
        "        print(f\"'{input_name}'라는 이름의 학생이 없습니다.\")\n",
        "        break\n"
      ]
    },
    {
      "cell_type": "markdown",
      "source": [
        "# 회고\n",
        "\n",
        "시간의 부족으로 추가점수를 잘못 입력했을경우 재입력 할 수 있게 반복문을 사용하지 못했다.\n",
        "\n",
        "변수명을 비슷하게 하다보니 호출하는데 엉키기도 해서 변수명, 함수명을 짓는 방법에 대해서도 공부가 필요할 것 같다."
      ],
      "metadata": {
        "id": "cTDLGYyDB73u"
      }
    }
  ]
}